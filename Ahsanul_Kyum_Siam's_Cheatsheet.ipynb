{
  "nbformat": 4,
  "nbformat_minor": 0,
  "metadata": {
    "colab": {
      "provenance": [],
      "collapsed_sections": [
        "vXuy2nSid4Vi",
        "2rTd5D6ksL1_",
        "umDXIg5rj9GR",
        "cqUq4lop12Fk",
        "tBDqfHBCxRrg"
      ]
    },
    "kernelspec": {
      "name": "python3",
      "display_name": "Python 3"
    },
    "language_info": {
      "name": "python"
    }
  },
  "cells": [
    {
      "cell_type": "markdown",
      "source": [
        "Main video f"
      ],
      "metadata": {
        "id": "SwcVj5n4t1yt"
      }
    },
    {
      "cell_type": "markdown",
      "source": [
        "***Steps***\n",
        "\n",
        "\n",
        "1.   Clean the Data (null value detect,fill the null value,Deal with dublicates,Feature engineering ,Outlier detection)\n",
        "2. OR (if want to See relationship instant See group By and use Barchart to show that)\n",
        "\n",
        "3.   Make two Parts of the dataset (Numerical and Categorical)\n",
        "\n"
      ],
      "metadata": {
        "id": "-CsXdz5E2nut"
      }
    },
    {
      "cell_type": "markdown",
      "source": [
        "# How to Import libraries"
      ],
      "metadata": {
        "id": "VTxqDe4qWDUr"
      }
    },
    {
      "cell_type": "code",
      "execution_count": null,
      "metadata": {
        "id": "i0W7VomrVW1v"
      },
      "outputs": [],
      "source": [
        "import pandas as pd\n",
        "import numpy as np\n",
        "import matplotlib.pyplot as plt\n",
        "import seaborn as sns\n",
        "%matplotlib inline"
      ]
    },
    {
      "cell_type": "markdown",
      "source": [
        "1) Pandas is a Python library used for working with data sets.\n",
        "It has functions for analyzing, cleaning, exploring, and manipulating data\n",
        "\n",
        "2)Numpy is a Python library that provides a multidimensional array object\n",
        "\n",
        "3)Matplotlib is a low level graph plotting library in python that serves as a visualization utility.\n",
        "\n",
        "4)Seaborn is a library for making statistical graphics in Python. It builds on top of matplotlib and integrates closely with pandas data structures.\n",
        "\n",
        "5)This line tells Jupyter to display Matplotlib plots directly in the output of the notebook othewise use plt.show()"
      ],
      "metadata": {
        "id": "3wu0cz0AYjRU"
      }
    },
    {
      "cell_type": "code",
      "source": [
        "# How to import a Library\n",
        "!pip install numpy"
      ],
      "metadata": {
        "colab": {
          "base_uri": "https://localhost:8080/"
        },
        "id": "MjbtfOgkbMUN",
        "outputId": "8398f168-d964-4b61-a07b-4cf8a0a43ee5"
      },
      "execution_count": null,
      "outputs": [
        {
          "output_type": "stream",
          "name": "stdout",
          "text": [
            "Requirement already satisfied: numpy in /usr/local/lib/python3.10/dist-packages (1.23.5)\n"
          ]
        }
      ]
    },
    {
      "cell_type": "markdown",
      "source": [],
      "metadata": {
        "id": "Yq3pabNWt0U5"
      }
    },
    {
      "cell_type": "markdown",
      "source": [
        "\n",
        "# Import From different Source"
      ],
      "metadata": {
        "id": "84dxtaHsa0Uw"
      }
    },
    {
      "cell_type": "code",
      "source": [
        "#df = pd.read_csv('File_name')\n",
        "#df = pd.read_excel('File_name')"
      ],
      "metadata": {
        "id": "6lQPSPAIaZap"
      },
      "execution_count": null,
      "outputs": []
    },
    {
      "cell_type": "code",
      "source": [
        "# import csv file  face error use this\n",
        "df = pd.read_csv('Diwali Sales Data.csv', encoding= 'unicode_escape')"
      ],
      "metadata": {
        "id": "29tre-VEgiur"
      },
      "execution_count": null,
      "outputs": []
    },
    {
      "cell_type": "code",
      "source": [
        "#Available Datasets\n",
        "sns.get_dataset_names()"
      ],
      "metadata": {
        "id": "6mWR1X3Y6QKx"
      },
      "execution_count": null,
      "outputs": []
    },
    {
      "cell_type": "code",
      "source": [
        "#import the sns load dataset\n",
        "df=sns.load_dataset('titanic')"
      ],
      "metadata": {
        "id": "B-9ObkxU5wel"
      },
      "execution_count": null,
      "outputs": []
    },
    {
      "cell_type": "markdown",
      "source": [
        "The Python-specific encoding unicode_escape is a dummy encoding that converts all non-ASCII characters into their \\uXXXX representations. Code points above the ASCII 0-127 range but below 256 are represented in the two-digit form \\xXX."
      ],
      "metadata": {
        "id": "hSTa7ZUUhG1l"
      }
    },
    {
      "cell_type": "markdown",
      "source": [
        "# Making  DataFram,Series,Array,list,set,tuple,distionary"
      ],
      "metadata": {
        "id": "8Kwrf7VEdHQa"
      }
    },
    {
      "cell_type": "markdown",
      "source": [
        "***Python Builten Data structure***\n",
        "\n",
        "\n",
        "*   List [MOD] {Mutable,order available,Duplicate available}\n",
        "*   Tuple [IOD] {Immutable,Order available,Duplicate available}\n",
        "*   Set [I Uo Ud] {Immutable, unordered, unduplicate}\n",
        "*   Distionary\n",
        "\n"
      ],
      "metadata": {
        "id": "PPkAZ5OGGlhS"
      }
    },
    {
      "cell_type": "markdown",
      "source": [
        "1) What is Series?\n",
        "\n",
        "pandas series is a one column of pandas Dataframe. It takes list of strings .\n",
        "\n",
        "2) Pandas dataframe can be made from dictionary, list and many more things .\n"
      ],
      "metadata": {
        "id": "6Wr2RVwCcwph"
      }
    },
    {
      "cell_type": "markdown",
      "source": [
        "***Making Empty Data Frame***"
      ],
      "metadata": {
        "id": "BWiK1l7CEIOv"
      }
    },
    {
      "cell_type": "code",
      "source": [
        "df = pd.DataFrame()\n",
        "df=pd.Series()"
      ],
      "metadata": {
        "colab": {
          "base_uri": "https://localhost:8080/"
        },
        "id": "7KDKrQDabcFs",
        "outputId": "99655d35-db74-433c-dce7-c58e9bf4fd6b"
      },
      "execution_count": null,
      "outputs": [
        {
          "output_type": "stream",
          "name": "stderr",
          "text": [
            "<ipython-input-6-1539a1e53a20>:3: FutureWarning: The default dtype for empty Series will be 'object' instead of 'float64' in a future version. Specify a dtype explicitly to silence this warning.\n",
            "  df=pd.Series()\n"
          ]
        }
      ]
    },
    {
      "cell_type": "markdown",
      "source": [
        "***Making Pandas DataFrame AND Series***\n",
        "\n",
        "\n",
        "**Make 3 List then Convert them to DataFrame and Series**"
      ],
      "metadata": {
        "id": "fGjqGABIntTu"
      }
    },
    {
      "cell_type": "code",
      "source": [
        "# Making DataFrame\n",
        "# First making 3 list  :\n",
        "a =[['motin',15],\n",
        "      ['siam',13],\n",
        "      ['Akash',40]]\n",
        "\n",
        "# Making DataFrame using Columns Name :\n",
        "df = pd.DataFrame(data=a,columns=['Name','Age'])"
      ],
      "metadata": {
        "id": "O-uIWWa7laYm"
      },
      "execution_count": null,
      "outputs": []
    },
    {
      "cell_type": "code",
      "source": [
        "# Copy Some Columns from the main DataFrame [ No method like  replace are available , so make new dataframe and input them]  ]\n",
        "df1=pd.DataFrame(df,columns=['a','b','g'])"
      ],
      "metadata": {
        "id": "CE11k1ObB7kj"
      },
      "execution_count": null,
      "outputs": []
    },
    {
      "cell_type": "code",
      "source": [
        "# Making Series\n",
        "a =[['motin',15],\n",
        "      ['siam',13],\n",
        "      ['Akash',40]]\n",
        "df1=pd.Series(a)"
      ],
      "metadata": {
        "id": "HjecmZKCmfCy"
      },
      "execution_count": null,
      "outputs": []
    },
    {
      "cell_type": "markdown",
      "source": [
        "***Copying a column from a pandas DataFrame to a existing Dataframe***"
      ],
      "metadata": {
        "id": "m4F0-1NCFu26"
      }
    },
    {
      "cell_type": "code",
      "source": [
        "df1['Age']=df['Age']"
      ],
      "metadata": {
        "id": "j4aNbh3LGDt0"
      },
      "execution_count": null,
      "outputs": []
    },
    {
      "cell_type": "markdown",
      "source": [
        "***Make a new dataframe using some columns of an another dataframe***"
      ],
      "metadata": {
        "id": "uJONiE_TRCJz"
      }
    },
    {
      "cell_type": "code",
      "source": [
        "#Make a new DataFrame which are numerical\n",
        "df2=pd.DataFrame(data=df,columns=(['survived','pclass','age','sibsp',\t'parch'\t,'fare']))"
      ],
      "metadata": {
        "id": "hYoRrpOrRCew"
      },
      "execution_count": null,
      "outputs": []
    },
    {
      "cell_type": "markdown",
      "source": [
        "***Based on any condition making new dataFrame***"
      ],
      "metadata": {
        "id": "t0qo8nn_GQoG"
      }
    },
    {
      "cell_type": "code",
      "source": [
        "df1=df.[df['Age']==1]"
      ],
      "metadata": {
        "id": "cDSIBx0oGOi8"
      },
      "execution_count": null,
      "outputs": []
    },
    {
      "cell_type": "markdown",
      "source": [
        "***Merge Dataset***"
      ],
      "metadata": {
        "id": "-n_1N0n4c_4Z"
      }
    },
    {
      "cell_type": "code",
      "source": [
        "#left - Merge the dataset with Left dataset\n",
        "final_df=pd.merge(df,df_country,on='Country Code',how='left')"
      ],
      "metadata": {
        "id": "GRLUJVZXc-YI"
      },
      "execution_count": null,
      "outputs": []
    },
    {
      "cell_type": "markdown",
      "source": [
        "***Making 1D Array***"
      ],
      "metadata": {
        "id": "4AXNLNOyEmCw"
      }
    },
    {
      "cell_type": "code",
      "source": [
        "s=np.array([1,2,3,4]) [#so the third bracket or first braket anything can be used]\n",
        "type(s)\n",
        "print(s.ndim)\n",
        "print(s)"
      ],
      "metadata": {
        "colab": {
          "base_uri": "https://localhost:8080/"
        },
        "id": "zFLhP_x9EtnQ",
        "outputId": "0326b6ff-c9f8-4daf-e3d0-183211dd9e03"
      },
      "execution_count": null,
      "outputs": [
        {
          "output_type": "stream",
          "name": "stdout",
          "text": [
            "1\n",
            "[1 2 3 4]\n"
          ]
        }
      ]
    },
    {
      "cell_type": "code",
      "source": [
        "#or\n",
        "s=np.array((1,2,3,4)) #[Extra Brackets are indicates the Dimention]\n",
        "type(s)\n",
        "print(s.ndim)\n",
        "print(s)"
      ],
      "metadata": {
        "colab": {
          "base_uri": "https://localhost:8080/"
        },
        "id": "cUkA4JvNFpwU",
        "outputId": "cbb7fbcf-6258-4934-dd39-86a7de407b78"
      },
      "execution_count": null,
      "outputs": [
        {
          "output_type": "stream",
          "name": "stdout",
          "text": [
            "1\n",
            "[1 2 3 4]\n"
          ]
        }
      ]
    },
    {
      "cell_type": "markdown",
      "source": [
        "***Making 2D Array***"
      ],
      "metadata": {
        "id": "wtYTwvBEFNKn"
      }
    },
    {
      "cell_type": "code",
      "source": [
        "s1=np.array(((1,2),(3,4))) #[Extra Brackets are indicates the Dimention]\n",
        "type(s1)\n",
        "s1.ndim"
      ],
      "metadata": {
        "colab": {
          "base_uri": "https://localhost:8080/"
        },
        "id": "LCnXuni9FNcx",
        "outputId": "c48c5c74-00f3-4c7b-ff36-59e58a5bb391"
      },
      "execution_count": null,
      "outputs": [
        {
          "output_type": "execute_result",
          "data": {
            "text/plain": [
              "2"
            ]
          },
          "metadata": {},
          "execution_count": 73
        }
      ]
    },
    {
      "cell_type": "markdown",
      "source": [
        "# Attribute , Function , method"
      ],
      "metadata": {
        "id": "vXuy2nSid4Vi"
      }
    },
    {
      "cell_type": "markdown",
      "source": [
        "1) Difference Attributes and Methods\n",
        "\n",
        "Methods - Use BRACKETS\n",
        "Actions like describing is a statistics method, sorting is an action\n",
        "**example : df.describe( ) , df.sort_values ( )**\n",
        "\n",
        "Attributes are the Features . That don't use any brackets\n",
        "Attributes - NOT USE BRACKETS\n",
        "like the feature the Data Frame has like Row num, Col num\n",
        "**example: df.shape, df.dtype**\n"
      ],
      "metadata": {
        "id": "XdVsaTuReDgA"
      }
    },
    {
      "cell_type": "code",
      "source": [
        "dir(pd.DataFrame())"
      ],
      "metadata": {
        "id": "Xi62BNAYdA9A"
      },
      "execution_count": null,
      "outputs": []
    },
    {
      "cell_type": "code",
      "source": [
        "# df.shape , df.size , df.ndim,"
      ],
      "metadata": {
        "id": "dym7xRp7e6SI"
      },
      "execution_count": null,
      "outputs": []
    },
    {
      "cell_type": "markdown",
      "source": [
        "# Other Works like split , change Datatype"
      ],
      "metadata": {
        "id": "2rTd5D6ksL1_"
      }
    },
    {
      "cell_type": "markdown",
      "source": [
        "1) **Change the Datatype of a column**"
      ],
      "metadata": {
        "id": "erPlinxAsV2C"
      }
    },
    {
      "cell_type": "code",
      "source": [
        "df.col_name.astype('int')"
      ],
      "metadata": {
        "id": "sGR5fZYciF1v"
      },
      "execution_count": null,
      "outputs": []
    },
    {
      "cell_type": "markdown",
      "source": [
        "***2) Rename the Column Name***"
      ],
      "metadata": {
        "id": "0-KmbgIliOKG"
      }
    },
    {
      "cell_type": "code",
      "source": [
        "#use 2nd Brackets like a dictionary\n",
        "df.rename({'Amount':'a'})"
      ],
      "metadata": {
        "id": "oAwfA2bQuUIP"
      },
      "execution_count": null,
      "outputs": []
    },
    {
      "cell_type": "markdown",
      "source": [
        "# Explanatory Data Analysis\n"
      ],
      "metadata": {
        "id": "umDXIg5rj9GR"
      }
    },
    {
      "cell_type": "markdown",
      "source": [
        "\n",
        "***Steps 1:(CLeaning and Seeing the Statistical Measurements) Not Included***\n",
        "\n",
        "***Substep 1:*** (Check the Null and Duplicate Values)\n",
        "*   Check the data Using df.info() , df.isnull().sum() , df.isnull()\n",
        "\n",
        "***Handle the dublicates***\n",
        "\n",
        "* df.duplicated()\n",
        "\n",
        "* df.drop_duplicates(inplace=True)\n",
        "\n",
        "\n",
        "**When to Drop a column**\n",
        "\n",
        "\n",
        "*   The column has more  then 75% Missing Values then Drop this Column\n",
        "*   Drop The Any column which has all null  values : df.drop (['col_name'],\n",
        "    ['col_name']),axis=1,inplace=True) [Row*column so 0 - Row , 1 - Columns]\n",
        "*   Drop  missing from Whole dataset values use : df.dropna(axis=0 / axis=1)\n",
        "    0- Row , 1- Column\n",
        "\n",
        "***Subplot 2 :***\n",
        "***For fill the value with mean, median, mode or forward and background interpulation***\n",
        "\n",
        "\n",
        "*    Fill the Null value with arbitary value  :(Not recomended)\n",
        "   df.fillna( value , inplace = True)\n",
        "*   Fill specific columns with arbitary Value\n",
        "df[\" col name\"].fillna( value , inplace=True)\n",
        "\n",
        "\n",
        "*  For fill the value with mean value(When data has no outlier then use this, if outlier then this will be Recomended to use Median)\n",
        "df[\" col name\"].fillna( df[\"col name\"].mean() , inplace=True)\n",
        "\n",
        "\n",
        "* Forward Filling Imputation :\n",
        "df1['Age'] = df1['Age'].ffill()\n",
        "\n",
        "*  Backward Filling Imputation :\n",
        " df1['Age'] = df1['Age'].bfill()\n",
        "\n",
        "\n",
        "iv)df.describe()\n",
        "\n",
        "\n",
        "\n",
        "\n"
      ],
      "metadata": {
        "id": "3ZmwZCvHkDT8"
      }
    },
    {
      "cell_type": "code",
      "source": [],
      "metadata": {
        "id": "KlDHQ_ToBZq1"
      },
      "execution_count": null,
      "outputs": []
    },
    {
      "cell_type": "markdown",
      "source": [
        "***Step 2 :*** (For Excle data) Analysis the simple things\n",
        "\n",
        " i)Use Sns Countplot to visualise the different items in the column\n",
        "\n",
        " ii)Then Group by the column with amount or order and then use Barplot to see the Relation\n"
      ],
      "metadata": {
        "id": "RUllkvuKBGtG"
      }
    },
    {
      "cell_type": "markdown",
      "source": [
        "# Group by"
      ],
      "metadata": {
        "id": "cqUq4lop12Fk"
      }
    },
    {
      "cell_type": "markdown",
      "source": [
        "**1**) Group By\n",
        "\n",
        "ax=df.groupby(['col_name'],as_index=False)['col_name].sum().sort_values(by='Order',ascending=False).head(10)\n",
        "\n",
        "For visualize the group data use Barplot"
      ],
      "metadata": {
        "id": "ZfxXMntM184J"
      }
    },
    {
      "cell_type": "code",
      "source": [
        "# plotting a bar chart for gender vs total amount\n",
        "\n",
        "sales_gen = df.groupby(['Gender'], as_index=False)['Amount'].sum().sort_values(by='Amount', ascending=False)\n",
        "sns.barplot(x = 'Gender',y= 'Amount' ,data = sales_gen)"
      ],
      "metadata": {
        "id": "-VnEarlj8ORm"
      },
      "execution_count": null,
      "outputs": []
    },
    {
      "cell_type": "markdown",
      "source": [
        "# Different Graphs\n",
        "\n"
      ],
      "metadata": {
        "id": "tBDqfHBCxRrg"
      }
    },
    {
      "cell_type": "markdown",
      "source": [
        "***Important Talks***\n",
        "*   From age data use Line chart (several Groups)\n",
        "*   \n",
        "\n"
      ],
      "metadata": {
        "id": "13r_u6eTXpdg"
      }
    },
    {
      "cell_type": "markdown",
      "source": [
        "Fixed the SIZE of the Graphs\n",
        "\n",
        "sns.set(rc={'figure.figsize':(15,5)})\n",
        "\n",
        "1) Countplot: **Show which Gender is highest(1 Column)**\n",
        "  \n",
        "  Countplot is used in 1 columns to the the amount of different values in the Columns\n",
        "  \n",
        "***sns.countplot(x='col_name',data=df)***"
      ],
      "metadata": {
        "id": "AEUrq4rE1vbQ"
      }
    },
    {
      "cell_type": "code",
      "source": [
        "#Countplot\n",
        "sns.countplot(x='col_name',hue='col_name', data=df)"
      ],
      "metadata": {
        "id": "x6Yhuf9re9li"
      },
      "execution_count": null,
      "outputs": []
    },
    {
      "cell_type": "markdown",
      "source": [
        "*** 2) Barplot :Show which Gender is highest in terms of Amount (2 Column)\n",
        "  \n",
        "  Showing two columns Use Barplot x and y ,***\n",
        "\n",
        "  sns.barplot(data=groupdf,x='' , y= '')\n",
        "\n",
        "  http://localhost:8888/notebooks/Pictures/Python%20Projects/Diwali_Sales_Analysis.ipynb"
      ],
      "metadata": {
        "id": "HkVwK8XLk3Mm"
      }
    },
    {
      "cell_type": "code",
      "source": [
        "# plotting a bar chart for gender vs total amount\n",
        "sales_gen = df.groupby(['Gender'], as_index=False)['Amount'].sum().sort_values(by='Amount', ascending=False)\n",
        "sns.barplot(x = 'Gender',y= 'Amount' ,data = sales_gen)"
      ],
      "metadata": {
        "id": "UwN6ehov7z3w"
      },
      "execution_count": null,
      "outputs": []
    },
    {
      "cell_type": "code",
      "source": [
        "#Barplot\n",
        "sns.barplot(data=groupdf,x='' , y= '')"
      ],
      "metadata": {
        "id": "1hvQLdn-krV1"
      },
      "execution_count": null,
      "outputs": []
    },
    {
      "cell_type": "markdown",
      "source": [
        "***Heatmaps***"
      ],
      "metadata": {
        "id": "mw0ECkrPO66Q"
      }
    },
    {
      "cell_type": "code",
      "source": [
        "https://www.youtube.com/watch?v=eAGjpFBJUCw&t=7s"
      ],
      "metadata": {
        "id": "KMhXft_6PA-n"
      },
      "execution_count": null,
      "outputs": []
    },
    {
      "cell_type": "markdown",
      "source": [
        "#[Feature Scaling](https://www.youtube.com/watch?v=qR3C-q9UrLk )"
      ],
      "metadata": {
        "id": "o2PmAcRapb45"
      }
    },
    {
      "cell_type": "markdown",
      "source": [
        "***Questions***\n",
        "\n",
        "*   What,why,type Feature Scaling\n",
        "*   How effect feature Scaling to the data\n",
        "*   For which type of Algorithms feature Scaling is important\n",
        "*   Advantages of Feature Scaling\n",
        "*   Graphical Transformation Of Data Must see\n",
        "\n",
        "\n",
        "\n"
      ],
      "metadata": {
        "id": "BAF7jYn3zDpE"
      }
    },
    {
      "cell_type": "markdown",
      "source": [
        "***Links***\n",
        "\n",
        "1) Graphical Transformation the Normalization Problem : https://www.youtube.com/watch?v=sxEqtjLC0aM\n",
        "\n",
        "2)  "
      ],
      "metadata": {
        "id": "dNsrR3Khtfp6"
      }
    },
    {
      "cell_type": "markdown",
      "source": [
        "***So first to find the relation in Columns Using***\n",
        "\n",
        "*df.describe()*  [See the 25% , 75%, Median Vlaues and compare the other columns] Show  mean and SD value for Standarization and see min max for normalization"
      ],
      "metadata": {
        "id": "QGyTXVjKxDW1"
      }
    },
    {
      "cell_type": "markdown",
      "source": [
        "***Feature Scaling is needed to Convert each column into same scale .Normalize the Data . Suppose dataset has two columns . Height in Gram , and Weight in Kg . So when distance the difference between 2 rows the difference imbalancement in Height and weight demage the performance . Have to scale the data Overwise Height(More Value) Columns will more preference.***\n",
        "\n",
        "***Techniques of Feature Scalling***\n",
        "If we understand the data is not Normally distributed go to Normalization technique\n",
        "\n",
        "*   Standarization ( Ensure the data follows Stadard Normal distribution with Mean = 0, SD = 1 ) (x-mean/SD)\n",
        "*   Normalization ( (x-x min)/x max-x min) ( Ensure the data range From0 0 to 1 )\n",
        "\n",
        "\n",
        "***Sklearn library of pyhton which has so many methods minmaxscaler, standardscalers***\n",
        "\n",
        "\n",
        "*Feature Scaling used for in 3 type of models*\n",
        "\n",
        "*   Type 1 : Distance type algorithm like :KNN, ***(must use Feature  Scaling)***\n",
        "*   Type 2 : Gradiant Decent type algorithm (Deep learnig Algos, Linear ,\n",
        "    logistic Regression) **(Use Feature Scaling)**\n",
        "*   Type 3 :  Decision Tree type algorithm (Bagging,Bosting,Random Forest, XG-BOOST) ***(Not need to use Scaling)***\n",
        "\n",
        "**Advantages**\n",
        "*   Faster Convergence\n",
        "*   Computing Distance Appropriately ( The Graph Change )\n",
        "\n",
        "\n",
        "\n",
        "\n"
      ],
      "metadata": {
        "id": "11OnY2A3qGSQ"
      }
    },
    {
      "cell_type": "markdown",
      "source": [
        "***When Use Standarization or Nomalizations***\n",
        "\n",
        "*   Generally, no right and wrong answer\n",
        "*   Stadarization is used when the data follows Guissain Distribution\n",
        "*   In the case of neural Network , normalization is prefered as data has no\n",
        "    assumpation\n",
        "*   Standarization is preffered over Normalization when the data has many   \n",
        "    outliers\n",
        "\n"
      ],
      "metadata": {
        "id": "jUgsQHn521qw"
      }
    },
    {
      "cell_type": "markdown",
      "source": [
        "***Minmaxscaler CODE***"
      ],
      "metadata": {
        "id": "w-6Us6G66iOZ"
      }
    },
    {
      "cell_type": "code",
      "source": [
        "df.describe()\n",
        "# Focus on Min and Max values of different columns they are different so scale it"
      ],
      "metadata": {
        "colab": {
          "base_uri": "https://localhost:8080/",
          "height": 300
        },
        "id": "-elUhdTZ6peR",
        "outputId": "4cdd0415-ca9b-42e3-90e3-7be50acea6bc"
      },
      "execution_count": null,
      "outputs": [
        {
          "output_type": "execute_result",
          "data": {
            "text/plain": [
              "         survived      pclass         age       sibsp       parch        fare\n",
              "count  891.000000  891.000000  714.000000  891.000000  891.000000  891.000000\n",
              "mean     0.383838    2.308642   29.699118    0.523008    0.381594   32.204208\n",
              "std      0.486592    0.836071   14.526497    1.102743    0.806057   49.693429\n",
              "min      0.000000    1.000000    0.420000    0.000000    0.000000    0.000000\n",
              "25%      0.000000    2.000000   20.125000    0.000000    0.000000    7.910400\n",
              "50%      0.000000    3.000000   28.000000    0.000000    0.000000   14.454200\n",
              "75%      1.000000    3.000000   38.000000    1.000000    0.000000   31.000000\n",
              "max      1.000000    3.000000   80.000000    8.000000    6.000000  512.329200"
            ],
            "text/html": [
              "\n",
              "  <div id=\"df-5cce7739-999c-464d-bf0e-6a4b60788af2\" class=\"colab-df-container\">\n",
              "    <div>\n",
              "<style scoped>\n",
              "    .dataframe tbody tr th:only-of-type {\n",
              "        vertical-align: middle;\n",
              "    }\n",
              "\n",
              "    .dataframe tbody tr th {\n",
              "        vertical-align: top;\n",
              "    }\n",
              "\n",
              "    .dataframe thead th {\n",
              "        text-align: right;\n",
              "    }\n",
              "</style>\n",
              "<table border=\"1\" class=\"dataframe\">\n",
              "  <thead>\n",
              "    <tr style=\"text-align: right;\">\n",
              "      <th></th>\n",
              "      <th>survived</th>\n",
              "      <th>pclass</th>\n",
              "      <th>age</th>\n",
              "      <th>sibsp</th>\n",
              "      <th>parch</th>\n",
              "      <th>fare</th>\n",
              "    </tr>\n",
              "  </thead>\n",
              "  <tbody>\n",
              "    <tr>\n",
              "      <th>count</th>\n",
              "      <td>891.000000</td>\n",
              "      <td>891.000000</td>\n",
              "      <td>714.000000</td>\n",
              "      <td>891.000000</td>\n",
              "      <td>891.000000</td>\n",
              "      <td>891.000000</td>\n",
              "    </tr>\n",
              "    <tr>\n",
              "      <th>mean</th>\n",
              "      <td>0.383838</td>\n",
              "      <td>2.308642</td>\n",
              "      <td>29.699118</td>\n",
              "      <td>0.523008</td>\n",
              "      <td>0.381594</td>\n",
              "      <td>32.204208</td>\n",
              "    </tr>\n",
              "    <tr>\n",
              "      <th>std</th>\n",
              "      <td>0.486592</td>\n",
              "      <td>0.836071</td>\n",
              "      <td>14.526497</td>\n",
              "      <td>1.102743</td>\n",
              "      <td>0.806057</td>\n",
              "      <td>49.693429</td>\n",
              "    </tr>\n",
              "    <tr>\n",
              "      <th>min</th>\n",
              "      <td>0.000000</td>\n",
              "      <td>1.000000</td>\n",
              "      <td>0.420000</td>\n",
              "      <td>0.000000</td>\n",
              "      <td>0.000000</td>\n",
              "      <td>0.000000</td>\n",
              "    </tr>\n",
              "    <tr>\n",
              "      <th>25%</th>\n",
              "      <td>0.000000</td>\n",
              "      <td>2.000000</td>\n",
              "      <td>20.125000</td>\n",
              "      <td>0.000000</td>\n",
              "      <td>0.000000</td>\n",
              "      <td>7.910400</td>\n",
              "    </tr>\n",
              "    <tr>\n",
              "      <th>50%</th>\n",
              "      <td>0.000000</td>\n",
              "      <td>3.000000</td>\n",
              "      <td>28.000000</td>\n",
              "      <td>0.000000</td>\n",
              "      <td>0.000000</td>\n",
              "      <td>14.454200</td>\n",
              "    </tr>\n",
              "    <tr>\n",
              "      <th>75%</th>\n",
              "      <td>1.000000</td>\n",
              "      <td>3.000000</td>\n",
              "      <td>38.000000</td>\n",
              "      <td>1.000000</td>\n",
              "      <td>0.000000</td>\n",
              "      <td>31.000000</td>\n",
              "    </tr>\n",
              "    <tr>\n",
              "      <th>max</th>\n",
              "      <td>1.000000</td>\n",
              "      <td>3.000000</td>\n",
              "      <td>80.000000</td>\n",
              "      <td>8.000000</td>\n",
              "      <td>6.000000</td>\n",
              "      <td>512.329200</td>\n",
              "    </tr>\n",
              "  </tbody>\n",
              "</table>\n",
              "</div>\n",
              "    <div class=\"colab-df-buttons\">\n",
              "\n",
              "  <div class=\"colab-df-container\">\n",
              "    <button class=\"colab-df-convert\" onclick=\"convertToInteractive('df-5cce7739-999c-464d-bf0e-6a4b60788af2')\"\n",
              "            title=\"Convert this dataframe to an interactive table.\"\n",
              "            style=\"display:none;\">\n",
              "\n",
              "  <svg xmlns=\"http://www.w3.org/2000/svg\" height=\"24px\" viewBox=\"0 -960 960 960\">\n",
              "    <path d=\"M120-120v-720h720v720H120Zm60-500h600v-160H180v160Zm220 220h160v-160H400v160Zm0 220h160v-160H400v160ZM180-400h160v-160H180v160Zm440 0h160v-160H620v160ZM180-180h160v-160H180v160Zm440 0h160v-160H620v160Z\"/>\n",
              "  </svg>\n",
              "    </button>\n",
              "\n",
              "  <style>\n",
              "    .colab-df-container {\n",
              "      display:flex;\n",
              "      gap: 12px;\n",
              "    }\n",
              "\n",
              "    .colab-df-convert {\n",
              "      background-color: #E8F0FE;\n",
              "      border: none;\n",
              "      border-radius: 50%;\n",
              "      cursor: pointer;\n",
              "      display: none;\n",
              "      fill: #1967D2;\n",
              "      height: 32px;\n",
              "      padding: 0 0 0 0;\n",
              "      width: 32px;\n",
              "    }\n",
              "\n",
              "    .colab-df-convert:hover {\n",
              "      background-color: #E2EBFA;\n",
              "      box-shadow: 0px 1px 2px rgba(60, 64, 67, 0.3), 0px 1px 3px 1px rgba(60, 64, 67, 0.15);\n",
              "      fill: #174EA6;\n",
              "    }\n",
              "\n",
              "    .colab-df-buttons div {\n",
              "      margin-bottom: 4px;\n",
              "    }\n",
              "\n",
              "    [theme=dark] .colab-df-convert {\n",
              "      background-color: #3B4455;\n",
              "      fill: #D2E3FC;\n",
              "    }\n",
              "\n",
              "    [theme=dark] .colab-df-convert:hover {\n",
              "      background-color: #434B5C;\n",
              "      box-shadow: 0px 1px 3px 1px rgba(0, 0, 0, 0.15);\n",
              "      filter: drop-shadow(0px 1px 2px rgba(0, 0, 0, 0.3));\n",
              "      fill: #FFFFFF;\n",
              "    }\n",
              "  </style>\n",
              "\n",
              "    <script>\n",
              "      const buttonEl =\n",
              "        document.querySelector('#df-5cce7739-999c-464d-bf0e-6a4b60788af2 button.colab-df-convert');\n",
              "      buttonEl.style.display =\n",
              "        google.colab.kernel.accessAllowed ? 'block' : 'none';\n",
              "\n",
              "      async function convertToInteractive(key) {\n",
              "        const element = document.querySelector('#df-5cce7739-999c-464d-bf0e-6a4b60788af2');\n",
              "        const dataTable =\n",
              "          await google.colab.kernel.invokeFunction('convertToInteractive',\n",
              "                                                    [key], {});\n",
              "        if (!dataTable) return;\n",
              "\n",
              "        const docLinkHtml = 'Like what you see? Visit the ' +\n",
              "          '<a target=\"_blank\" href=https://colab.research.google.com/notebooks/data_table.ipynb>data table notebook</a>'\n",
              "          + ' to learn more about interactive tables.';\n",
              "        element.innerHTML = '';\n",
              "        dataTable['output_type'] = 'display_data';\n",
              "        await google.colab.output.renderOutput(dataTable, element);\n",
              "        const docLink = document.createElement('div');\n",
              "        docLink.innerHTML = docLinkHtml;\n",
              "        element.appendChild(docLink);\n",
              "      }\n",
              "    </script>\n",
              "  </div>\n",
              "\n",
              "\n",
              "<div id=\"df-9be6c77b-563c-4347-a664-b9e908cf0e93\">\n",
              "  <button class=\"colab-df-quickchart\" onclick=\"quickchart('df-9be6c77b-563c-4347-a664-b9e908cf0e93')\"\n",
              "            title=\"Suggest charts\"\n",
              "            style=\"display:none;\">\n",
              "\n",
              "<svg xmlns=\"http://www.w3.org/2000/svg\" height=\"24px\"viewBox=\"0 0 24 24\"\n",
              "     width=\"24px\">\n",
              "    <g>\n",
              "        <path d=\"M19 3H5c-1.1 0-2 .9-2 2v14c0 1.1.9 2 2 2h14c1.1 0 2-.9 2-2V5c0-1.1-.9-2-2-2zM9 17H7v-7h2v7zm4 0h-2V7h2v10zm4 0h-2v-4h2v4z\"/>\n",
              "    </g>\n",
              "</svg>\n",
              "  </button>\n",
              "\n",
              "<style>\n",
              "  .colab-df-quickchart {\n",
              "      --bg-color: #E8F0FE;\n",
              "      --fill-color: #1967D2;\n",
              "      --hover-bg-color: #E2EBFA;\n",
              "      --hover-fill-color: #174EA6;\n",
              "      --disabled-fill-color: #AAA;\n",
              "      --disabled-bg-color: #DDD;\n",
              "  }\n",
              "\n",
              "  [theme=dark] .colab-df-quickchart {\n",
              "      --bg-color: #3B4455;\n",
              "      --fill-color: #D2E3FC;\n",
              "      --hover-bg-color: #434B5C;\n",
              "      --hover-fill-color: #FFFFFF;\n",
              "      --disabled-bg-color: #3B4455;\n",
              "      --disabled-fill-color: #666;\n",
              "  }\n",
              "\n",
              "  .colab-df-quickchart {\n",
              "    background-color: var(--bg-color);\n",
              "    border: none;\n",
              "    border-radius: 50%;\n",
              "    cursor: pointer;\n",
              "    display: none;\n",
              "    fill: var(--fill-color);\n",
              "    height: 32px;\n",
              "    padding: 0;\n",
              "    width: 32px;\n",
              "  }\n",
              "\n",
              "  .colab-df-quickchart:hover {\n",
              "    background-color: var(--hover-bg-color);\n",
              "    box-shadow: 0 1px 2px rgba(60, 64, 67, 0.3), 0 1px 3px 1px rgba(60, 64, 67, 0.15);\n",
              "    fill: var(--button-hover-fill-color);\n",
              "  }\n",
              "\n",
              "  .colab-df-quickchart-complete:disabled,\n",
              "  .colab-df-quickchart-complete:disabled:hover {\n",
              "    background-color: var(--disabled-bg-color);\n",
              "    fill: var(--disabled-fill-color);\n",
              "    box-shadow: none;\n",
              "  }\n",
              "\n",
              "  .colab-df-spinner {\n",
              "    border: 2px solid var(--fill-color);\n",
              "    border-color: transparent;\n",
              "    border-bottom-color: var(--fill-color);\n",
              "    animation:\n",
              "      spin 1s steps(1) infinite;\n",
              "  }\n",
              "\n",
              "  @keyframes spin {\n",
              "    0% {\n",
              "      border-color: transparent;\n",
              "      border-bottom-color: var(--fill-color);\n",
              "      border-left-color: var(--fill-color);\n",
              "    }\n",
              "    20% {\n",
              "      border-color: transparent;\n",
              "      border-left-color: var(--fill-color);\n",
              "      border-top-color: var(--fill-color);\n",
              "    }\n",
              "    30% {\n",
              "      border-color: transparent;\n",
              "      border-left-color: var(--fill-color);\n",
              "      border-top-color: var(--fill-color);\n",
              "      border-right-color: var(--fill-color);\n",
              "    }\n",
              "    40% {\n",
              "      border-color: transparent;\n",
              "      border-right-color: var(--fill-color);\n",
              "      border-top-color: var(--fill-color);\n",
              "    }\n",
              "    60% {\n",
              "      border-color: transparent;\n",
              "      border-right-color: var(--fill-color);\n",
              "    }\n",
              "    80% {\n",
              "      border-color: transparent;\n",
              "      border-right-color: var(--fill-color);\n",
              "      border-bottom-color: var(--fill-color);\n",
              "    }\n",
              "    90% {\n",
              "      border-color: transparent;\n",
              "      border-bottom-color: var(--fill-color);\n",
              "    }\n",
              "  }\n",
              "</style>\n",
              "\n",
              "  <script>\n",
              "    async function quickchart(key) {\n",
              "      const quickchartButtonEl =\n",
              "        document.querySelector('#' + key + ' button');\n",
              "      quickchartButtonEl.disabled = true;  // To prevent multiple clicks.\n",
              "      quickchartButtonEl.classList.add('colab-df-spinner');\n",
              "      try {\n",
              "        const charts = await google.colab.kernel.invokeFunction(\n",
              "            'suggestCharts', [key], {});\n",
              "      } catch (error) {\n",
              "        console.error('Error during call to suggestCharts:', error);\n",
              "      }\n",
              "      quickchartButtonEl.classList.remove('colab-df-spinner');\n",
              "      quickchartButtonEl.classList.add('colab-df-quickchart-complete');\n",
              "    }\n",
              "    (() => {\n",
              "      let quickchartButtonEl =\n",
              "        document.querySelector('#df-9be6c77b-563c-4347-a664-b9e908cf0e93 button');\n",
              "      quickchartButtonEl.style.display =\n",
              "        google.colab.kernel.accessAllowed ? 'block' : 'none';\n",
              "    })();\n",
              "  </script>\n",
              "</div>\n",
              "    </div>\n",
              "  </div>\n"
            ]
          },
          "metadata": {},
          "execution_count": 8
        }
      ]
    },
    {
      "cell_type": "code",
      "source": [
        "df1=pd.DataFrame(data=df,columns=['survived','pclass','age','sibsp',\t'parch'\t,'fare'])"
      ],
      "metadata": {
        "id": "81oKU8s465VT"
      },
      "execution_count": null,
      "outputs": []
    },
    {
      "cell_type": "code",
      "source": [
        "type(df1)"
      ],
      "metadata": {
        "colab": {
          "base_uri": "https://localhost:8080/"
        },
        "id": "fQFBnJm684_r",
        "outputId": "0ed2de84-7df8-4d33-a085-9c7bdc9ec33e"
      },
      "execution_count": null,
      "outputs": [
        {
          "output_type": "execute_result",
          "data": {
            "text/plain": [
              "pandas.core.frame.DataFrame"
            ]
          },
          "metadata": {},
          "execution_count": 28
        }
      ]
    },
    {
      "cell_type": "code",
      "source": [
        "#Minmaxscaler\n",
        "from sklearn.preprocessing import MinMaxScaler\n",
        "scaler=MinMaxScaler()\n",
        "df1=scaler.fit_transform(df1)"
      ],
      "metadata": {
        "id": "AzdE1OIYyfP5"
      },
      "execution_count": null,
      "outputs": []
    },
    {
      "cell_type": "code",
      "source": [
        "# After Feature Scaling the dataFrame Convert to Numpy Array\n",
        "type(df1)\n"
      ],
      "metadata": {
        "colab": {
          "base_uri": "https://localhost:8080/"
        },
        "id": "fr8-BFld84aO",
        "outputId": "2c3ba7ec-9fd6-4879-ab3d-ec9f9b044992"
      },
      "execution_count": null,
      "outputs": [
        {
          "output_type": "execute_result",
          "data": {
            "text/plain": [
              "pandas.core.frame.DataFrame"
            ]
          },
          "metadata": {},
          "execution_count": 42
        }
      ]
    },
    {
      "cell_type": "code",
      "source": [
        "df1=pd.DataFrame(df1,columns=['survived','pclass','age','sibsp',\t'parch'\t,'fare'])\n"
      ],
      "metadata": {
        "id": "RgTtk5PW8Z8P"
      },
      "execution_count": null,
      "outputs": []
    },
    {
      "cell_type": "code",
      "source": [
        "df1.describe()"
      ],
      "metadata": {
        "colab": {
          "base_uri": "https://localhost:8080/",
          "height": 300
        },
        "id": "JT2r0CAE98n8",
        "outputId": "71d4f4b3-4dbc-4028-a2e7-1c6e8cf925ec"
      },
      "execution_count": null,
      "outputs": [
        {
          "output_type": "execute_result",
          "data": {
            "text/plain": [
              "         survived      pclass         age       sibsp       parch        fare\n",
              "count  891.000000  891.000000  714.000000  891.000000  891.000000  891.000000\n",
              "mean     0.383838    0.654321    0.367921    0.065376    0.063599    0.062858\n",
              "std      0.486592    0.418036    0.182540    0.137843    0.134343    0.096995\n",
              "min      0.000000    0.000000    0.000000    0.000000    0.000000    0.000000\n",
              "25%      0.000000    0.500000    0.247612    0.000000    0.000000    0.015440\n",
              "50%      0.000000    1.000000    0.346569    0.000000    0.000000    0.028213\n",
              "75%      1.000000    1.000000    0.472229    0.125000    0.000000    0.060508\n",
              "max      1.000000    1.000000    1.000000    1.000000    1.000000    1.000000"
            ],
            "text/html": [
              "\n",
              "  <div id=\"df-39c77a85-b279-4802-9cb9-7b429eac13e0\" class=\"colab-df-container\">\n",
              "    <div>\n",
              "<style scoped>\n",
              "    .dataframe tbody tr th:only-of-type {\n",
              "        vertical-align: middle;\n",
              "    }\n",
              "\n",
              "    .dataframe tbody tr th {\n",
              "        vertical-align: top;\n",
              "    }\n",
              "\n",
              "    .dataframe thead th {\n",
              "        text-align: right;\n",
              "    }\n",
              "</style>\n",
              "<table border=\"1\" class=\"dataframe\">\n",
              "  <thead>\n",
              "    <tr style=\"text-align: right;\">\n",
              "      <th></th>\n",
              "      <th>survived</th>\n",
              "      <th>pclass</th>\n",
              "      <th>age</th>\n",
              "      <th>sibsp</th>\n",
              "      <th>parch</th>\n",
              "      <th>fare</th>\n",
              "    </tr>\n",
              "  </thead>\n",
              "  <tbody>\n",
              "    <tr>\n",
              "      <th>count</th>\n",
              "      <td>891.000000</td>\n",
              "      <td>891.000000</td>\n",
              "      <td>714.000000</td>\n",
              "      <td>891.000000</td>\n",
              "      <td>891.000000</td>\n",
              "      <td>891.000000</td>\n",
              "    </tr>\n",
              "    <tr>\n",
              "      <th>mean</th>\n",
              "      <td>0.383838</td>\n",
              "      <td>0.654321</td>\n",
              "      <td>0.367921</td>\n",
              "      <td>0.065376</td>\n",
              "      <td>0.063599</td>\n",
              "      <td>0.062858</td>\n",
              "    </tr>\n",
              "    <tr>\n",
              "      <th>std</th>\n",
              "      <td>0.486592</td>\n",
              "      <td>0.418036</td>\n",
              "      <td>0.182540</td>\n",
              "      <td>0.137843</td>\n",
              "      <td>0.134343</td>\n",
              "      <td>0.096995</td>\n",
              "    </tr>\n",
              "    <tr>\n",
              "      <th>min</th>\n",
              "      <td>0.000000</td>\n",
              "      <td>0.000000</td>\n",
              "      <td>0.000000</td>\n",
              "      <td>0.000000</td>\n",
              "      <td>0.000000</td>\n",
              "      <td>0.000000</td>\n",
              "    </tr>\n",
              "    <tr>\n",
              "      <th>25%</th>\n",
              "      <td>0.000000</td>\n",
              "      <td>0.500000</td>\n",
              "      <td>0.247612</td>\n",
              "      <td>0.000000</td>\n",
              "      <td>0.000000</td>\n",
              "      <td>0.015440</td>\n",
              "    </tr>\n",
              "    <tr>\n",
              "      <th>50%</th>\n",
              "      <td>0.000000</td>\n",
              "      <td>1.000000</td>\n",
              "      <td>0.346569</td>\n",
              "      <td>0.000000</td>\n",
              "      <td>0.000000</td>\n",
              "      <td>0.028213</td>\n",
              "    </tr>\n",
              "    <tr>\n",
              "      <th>75%</th>\n",
              "      <td>1.000000</td>\n",
              "      <td>1.000000</td>\n",
              "      <td>0.472229</td>\n",
              "      <td>0.125000</td>\n",
              "      <td>0.000000</td>\n",
              "      <td>0.060508</td>\n",
              "    </tr>\n",
              "    <tr>\n",
              "      <th>max</th>\n",
              "      <td>1.000000</td>\n",
              "      <td>1.000000</td>\n",
              "      <td>1.000000</td>\n",
              "      <td>1.000000</td>\n",
              "      <td>1.000000</td>\n",
              "      <td>1.000000</td>\n",
              "    </tr>\n",
              "  </tbody>\n",
              "</table>\n",
              "</div>\n",
              "    <div class=\"colab-df-buttons\">\n",
              "\n",
              "  <div class=\"colab-df-container\">\n",
              "    <button class=\"colab-df-convert\" onclick=\"convertToInteractive('df-39c77a85-b279-4802-9cb9-7b429eac13e0')\"\n",
              "            title=\"Convert this dataframe to an interactive table.\"\n",
              "            style=\"display:none;\">\n",
              "\n",
              "  <svg xmlns=\"http://www.w3.org/2000/svg\" height=\"24px\" viewBox=\"0 -960 960 960\">\n",
              "    <path d=\"M120-120v-720h720v720H120Zm60-500h600v-160H180v160Zm220 220h160v-160H400v160Zm0 220h160v-160H400v160ZM180-400h160v-160H180v160Zm440 0h160v-160H620v160ZM180-180h160v-160H180v160Zm440 0h160v-160H620v160Z\"/>\n",
              "  </svg>\n",
              "    </button>\n",
              "\n",
              "  <style>\n",
              "    .colab-df-container {\n",
              "      display:flex;\n",
              "      gap: 12px;\n",
              "    }\n",
              "\n",
              "    .colab-df-convert {\n",
              "      background-color: #E8F0FE;\n",
              "      border: none;\n",
              "      border-radius: 50%;\n",
              "      cursor: pointer;\n",
              "      display: none;\n",
              "      fill: #1967D2;\n",
              "      height: 32px;\n",
              "      padding: 0 0 0 0;\n",
              "      width: 32px;\n",
              "    }\n",
              "\n",
              "    .colab-df-convert:hover {\n",
              "      background-color: #E2EBFA;\n",
              "      box-shadow: 0px 1px 2px rgba(60, 64, 67, 0.3), 0px 1px 3px 1px rgba(60, 64, 67, 0.15);\n",
              "      fill: #174EA6;\n",
              "    }\n",
              "\n",
              "    .colab-df-buttons div {\n",
              "      margin-bottom: 4px;\n",
              "    }\n",
              "\n",
              "    [theme=dark] .colab-df-convert {\n",
              "      background-color: #3B4455;\n",
              "      fill: #D2E3FC;\n",
              "    }\n",
              "\n",
              "    [theme=dark] .colab-df-convert:hover {\n",
              "      background-color: #434B5C;\n",
              "      box-shadow: 0px 1px 3px 1px rgba(0, 0, 0, 0.15);\n",
              "      filter: drop-shadow(0px 1px 2px rgba(0, 0, 0, 0.3));\n",
              "      fill: #FFFFFF;\n",
              "    }\n",
              "  </style>\n",
              "\n",
              "    <script>\n",
              "      const buttonEl =\n",
              "        document.querySelector('#df-39c77a85-b279-4802-9cb9-7b429eac13e0 button.colab-df-convert');\n",
              "      buttonEl.style.display =\n",
              "        google.colab.kernel.accessAllowed ? 'block' : 'none';\n",
              "\n",
              "      async function convertToInteractive(key) {\n",
              "        const element = document.querySelector('#df-39c77a85-b279-4802-9cb9-7b429eac13e0');\n",
              "        const dataTable =\n",
              "          await google.colab.kernel.invokeFunction('convertToInteractive',\n",
              "                                                    [key], {});\n",
              "        if (!dataTable) return;\n",
              "\n",
              "        const docLinkHtml = 'Like what you see? Visit the ' +\n",
              "          '<a target=\"_blank\" href=https://colab.research.google.com/notebooks/data_table.ipynb>data table notebook</a>'\n",
              "          + ' to learn more about interactive tables.';\n",
              "        element.innerHTML = '';\n",
              "        dataTable['output_type'] = 'display_data';\n",
              "        await google.colab.output.renderOutput(dataTable, element);\n",
              "        const docLink = document.createElement('div');\n",
              "        docLink.innerHTML = docLinkHtml;\n",
              "        element.appendChild(docLink);\n",
              "      }\n",
              "    </script>\n",
              "  </div>\n",
              "\n",
              "\n",
              "<div id=\"df-9f2e5f50-4851-47d6-89f9-4659d4aaea4b\">\n",
              "  <button class=\"colab-df-quickchart\" onclick=\"quickchart('df-9f2e5f50-4851-47d6-89f9-4659d4aaea4b')\"\n",
              "            title=\"Suggest charts\"\n",
              "            style=\"display:none;\">\n",
              "\n",
              "<svg xmlns=\"http://www.w3.org/2000/svg\" height=\"24px\"viewBox=\"0 0 24 24\"\n",
              "     width=\"24px\">\n",
              "    <g>\n",
              "        <path d=\"M19 3H5c-1.1 0-2 .9-2 2v14c0 1.1.9 2 2 2h14c1.1 0 2-.9 2-2V5c0-1.1-.9-2-2-2zM9 17H7v-7h2v7zm4 0h-2V7h2v10zm4 0h-2v-4h2v4z\"/>\n",
              "    </g>\n",
              "</svg>\n",
              "  </button>\n",
              "\n",
              "<style>\n",
              "  .colab-df-quickchart {\n",
              "      --bg-color: #E8F0FE;\n",
              "      --fill-color: #1967D2;\n",
              "      --hover-bg-color: #E2EBFA;\n",
              "      --hover-fill-color: #174EA6;\n",
              "      --disabled-fill-color: #AAA;\n",
              "      --disabled-bg-color: #DDD;\n",
              "  }\n",
              "\n",
              "  [theme=dark] .colab-df-quickchart {\n",
              "      --bg-color: #3B4455;\n",
              "      --fill-color: #D2E3FC;\n",
              "      --hover-bg-color: #434B5C;\n",
              "      --hover-fill-color: #FFFFFF;\n",
              "      --disabled-bg-color: #3B4455;\n",
              "      --disabled-fill-color: #666;\n",
              "  }\n",
              "\n",
              "  .colab-df-quickchart {\n",
              "    background-color: var(--bg-color);\n",
              "    border: none;\n",
              "    border-radius: 50%;\n",
              "    cursor: pointer;\n",
              "    display: none;\n",
              "    fill: var(--fill-color);\n",
              "    height: 32px;\n",
              "    padding: 0;\n",
              "    width: 32px;\n",
              "  }\n",
              "\n",
              "  .colab-df-quickchart:hover {\n",
              "    background-color: var(--hover-bg-color);\n",
              "    box-shadow: 0 1px 2px rgba(60, 64, 67, 0.3), 0 1px 3px 1px rgba(60, 64, 67, 0.15);\n",
              "    fill: var(--button-hover-fill-color);\n",
              "  }\n",
              "\n",
              "  .colab-df-quickchart-complete:disabled,\n",
              "  .colab-df-quickchart-complete:disabled:hover {\n",
              "    background-color: var(--disabled-bg-color);\n",
              "    fill: var(--disabled-fill-color);\n",
              "    box-shadow: none;\n",
              "  }\n",
              "\n",
              "  .colab-df-spinner {\n",
              "    border: 2px solid var(--fill-color);\n",
              "    border-color: transparent;\n",
              "    border-bottom-color: var(--fill-color);\n",
              "    animation:\n",
              "      spin 1s steps(1) infinite;\n",
              "  }\n",
              "\n",
              "  @keyframes spin {\n",
              "    0% {\n",
              "      border-color: transparent;\n",
              "      border-bottom-color: var(--fill-color);\n",
              "      border-left-color: var(--fill-color);\n",
              "    }\n",
              "    20% {\n",
              "      border-color: transparent;\n",
              "      border-left-color: var(--fill-color);\n",
              "      border-top-color: var(--fill-color);\n",
              "    }\n",
              "    30% {\n",
              "      border-color: transparent;\n",
              "      border-left-color: var(--fill-color);\n",
              "      border-top-color: var(--fill-color);\n",
              "      border-right-color: var(--fill-color);\n",
              "    }\n",
              "    40% {\n",
              "      border-color: transparent;\n",
              "      border-right-color: var(--fill-color);\n",
              "      border-top-color: var(--fill-color);\n",
              "    }\n",
              "    60% {\n",
              "      border-color: transparent;\n",
              "      border-right-color: var(--fill-color);\n",
              "    }\n",
              "    80% {\n",
              "      border-color: transparent;\n",
              "      border-right-color: var(--fill-color);\n",
              "      border-bottom-color: var(--fill-color);\n",
              "    }\n",
              "    90% {\n",
              "      border-color: transparent;\n",
              "      border-bottom-color: var(--fill-color);\n",
              "    }\n",
              "  }\n",
              "</style>\n",
              "\n",
              "  <script>\n",
              "    async function quickchart(key) {\n",
              "      const quickchartButtonEl =\n",
              "        document.querySelector('#' + key + ' button');\n",
              "      quickchartButtonEl.disabled = true;  // To prevent multiple clicks.\n",
              "      quickchartButtonEl.classList.add('colab-df-spinner');\n",
              "      try {\n",
              "        const charts = await google.colab.kernel.invokeFunction(\n",
              "            'suggestCharts', [key], {});\n",
              "      } catch (error) {\n",
              "        console.error('Error during call to suggestCharts:', error);\n",
              "      }\n",
              "      quickchartButtonEl.classList.remove('colab-df-spinner');\n",
              "      quickchartButtonEl.classList.add('colab-df-quickchart-complete');\n",
              "    }\n",
              "    (() => {\n",
              "      let quickchartButtonEl =\n",
              "        document.querySelector('#df-9f2e5f50-4851-47d6-89f9-4659d4aaea4b button');\n",
              "      quickchartButtonEl.style.display =\n",
              "        google.colab.kernel.accessAllowed ? 'block' : 'none';\n",
              "    })();\n",
              "  </script>\n",
              "</div>\n",
              "    </div>\n",
              "  </div>\n"
            ]
          },
          "metadata": {},
          "execution_count": 37
        }
      ]
    },
    {
      "cell_type": "code",
      "source": [
        "sns.pairplot(df1)"
      ],
      "metadata": {
        "colab": {
          "base_uri": "https://localhost:8080/",
          "height": 1000
        },
        "id": "uLJSqWjS-BqX",
        "outputId": "9f47fb3a-cf03-4809-ca4c-a510b626954c"
      },
      "execution_count": null,
      "outputs": [
        {
          "output_type": "execute_result",
          "data": {
            "text/plain": [
              "<seaborn.axisgrid.PairGrid at 0x7fc0e9c19b70>"
            ]
          },
          "metadata": {},
          "execution_count": 38
        },
        {
          "output_type": "display_data",
          "data": {
            "text/plain": [
              "<Figure size 1500x1500 with 42 Axes>"
            ],
            "image/png": "[encoded data removed]"
          },
          "metadata": {}
        }
      ]
    },
    {
      "cell_type": "markdown",
      "source": [
        "***Code For StanDarization***\n"
      ],
      "metadata": {
        "id": "KGJ2-8Lt-IDZ"
      }
    },
    {
      "cell_type": "code",
      "source": [
        "df.describe()"
      ],
      "metadata": {
        "colab": {
          "base_uri": "https://localhost:8080/",
          "height": 300
        },
        "id": "tqwJt5tt-QPi",
        "outputId": "98464d6d-005c-451c-f0f1-a7d12324c4a1"
      },
      "execution_count": null,
      "outputs": [
        {
          "output_type": "execute_result",
          "data": {
            "text/plain": [
              "         survived      pclass         age       sibsp       parch        fare\n",
              "count  891.000000  891.000000  714.000000  891.000000  891.000000  891.000000\n",
              "mean     0.383838    2.308642   29.699118    0.523008    0.381594   32.204208\n",
              "std      0.486592    0.836071   14.526497    1.102743    0.806057   49.693429\n",
              "min      0.000000    1.000000    0.420000    0.000000    0.000000    0.000000\n",
              "25%      0.000000    2.000000   20.125000    0.000000    0.000000    7.910400\n",
              "50%      0.000000    3.000000   28.000000    0.000000    0.000000   14.454200\n",
              "75%      1.000000    3.000000   38.000000    1.000000    0.000000   31.000000\n",
              "max      1.000000    3.000000   80.000000    8.000000    6.000000  512.329200"
            ],
            "text/html": [
              "\n",
              "  <div id=\"df-92639012-3fff-4bc2-8119-3fa8422dd9e4\" class=\"colab-df-container\">\n",
              "    <div>\n",
              "<style scoped>\n",
              "    .dataframe tbody tr th:only-of-type {\n",
              "        vertical-align: middle;\n",
              "    }\n",
              "\n",
              "    .dataframe tbody tr th {\n",
              "        vertical-align: top;\n",
              "    }\n",
              "\n",
              "    .dataframe thead th {\n",
              "        text-align: right;\n",
              "    }\n",
              "</style>\n",
              "<table border=\"1\" class=\"dataframe\">\n",
              "  <thead>\n",
              "    <tr style=\"text-align: right;\">\n",
              "      <th></th>\n",
              "      <th>survived</th>\n",
              "      <th>pclass</th>\n",
              "      <th>age</th>\n",
              "      <th>sibsp</th>\n",
              "      <th>parch</th>\n",
              "      <th>fare</th>\n",
              "    </tr>\n",
              "  </thead>\n",
              "  <tbody>\n",
              "    <tr>\n",
              "      <th>count</th>\n",
              "      <td>891.000000</td>\n",
              "      <td>891.000000</td>\n",
              "      <td>714.000000</td>\n",
              "      <td>891.000000</td>\n",
              "      <td>891.000000</td>\n",
              "      <td>891.000000</td>\n",
              "    </tr>\n",
              "    <tr>\n",
              "      <th>mean</th>\n",
              "      <td>0.383838</td>\n",
              "      <td>2.308642</td>\n",
              "      <td>29.699118</td>\n",
              "      <td>0.523008</td>\n",
              "      <td>0.381594</td>\n",
              "      <td>32.204208</td>\n",
              "    </tr>\n",
              "    <tr>\n",
              "      <th>std</th>\n",
              "      <td>0.486592</td>\n",
              "      <td>0.836071</td>\n",
              "      <td>14.526497</td>\n",
              "      <td>1.102743</td>\n",
              "      <td>0.806057</td>\n",
              "      <td>49.693429</td>\n",
              "    </tr>\n",
              "    <tr>\n",
              "      <th>min</th>\n",
              "      <td>0.000000</td>\n",
              "      <td>1.000000</td>\n",
              "      <td>0.420000</td>\n",
              "      <td>0.000000</td>\n",
              "      <td>0.000000</td>\n",
              "      <td>0.000000</td>\n",
              "    </tr>\n",
              "    <tr>\n",
              "      <th>25%</th>\n",
              "      <td>0.000000</td>\n",
              "      <td>2.000000</td>\n",
              "      <td>20.125000</td>\n",
              "      <td>0.000000</td>\n",
              "      <td>0.000000</td>\n",
              "      <td>7.910400</td>\n",
              "    </tr>\n",
              "    <tr>\n",
              "      <th>50%</th>\n",
              "      <td>0.000000</td>\n",
              "      <td>3.000000</td>\n",
              "      <td>28.000000</td>\n",
              "      <td>0.000000</td>\n",
              "      <td>0.000000</td>\n",
              "      <td>14.454200</td>\n",
              "    </tr>\n",
              "    <tr>\n",
              "      <th>75%</th>\n",
              "      <td>1.000000</td>\n",
              "      <td>3.000000</td>\n",
              "      <td>38.000000</td>\n",
              "      <td>1.000000</td>\n",
              "      <td>0.000000</td>\n",
              "      <td>31.000000</td>\n",
              "    </tr>\n",
              "    <tr>\n",
              "      <th>max</th>\n",
              "      <td>1.000000</td>\n",
              "      <td>3.000000</td>\n",
              "      <td>80.000000</td>\n",
              "      <td>8.000000</td>\n",
              "      <td>6.000000</td>\n",
              "      <td>512.329200</td>\n",
              "    </tr>\n",
              "  </tbody>\n",
              "</table>\n",
              "</div>\n",
              "    <div class=\"colab-df-buttons\">\n",
              "\n",
              "  <div class=\"colab-df-container\">\n",
              "    <button class=\"colab-df-convert\" onclick=\"convertToInteractive('df-92639012-3fff-4bc2-8119-3fa8422dd9e4')\"\n",
              "            title=\"Convert this dataframe to an interactive table.\"\n",
              "            style=\"display:none;\">\n",
              "\n",
              "  <svg xmlns=\"http://www.w3.org/2000/svg\" height=\"24px\" viewBox=\"0 -960 960 960\">\n",
              "    <path d=\"M120-120v-720h720v720H120Zm60-500h600v-160H180v160Zm220 220h160v-160H400v160Zm0 220h160v-160H400v160ZM180-400h160v-160H180v160Zm440 0h160v-160H620v160ZM180-180h160v-160H180v160Zm440 0h160v-160H620v160Z\"/>\n",
              "  </svg>\n",
              "    </button>\n",
              "\n",
              "  <style>\n",
              "    .colab-df-container {\n",
              "      display:flex;\n",
              "      gap: 12px;\n",
              "    }\n",
              "\n",
              "    .colab-df-convert {\n",
              "      background-color: #E8F0FE;\n",
              "      border: none;\n",
              "      border-radius: 50%;\n",
              "      cursor: pointer;\n",
              "      display: none;\n",
              "      fill: #1967D2;\n",
              "      height: 32px;\n",
              "      padding: 0 0 0 0;\n",
              "      width: 32px;\n",
              "    }\n",
              "\n",
              "    .colab-df-convert:hover {\n",
              "      background-color: #E2EBFA;\n",
              "      box-shadow: 0px 1px 2px rgba(60, 64, 67, 0.3), 0px 1px 3px 1px rgba(60, 64, 67, 0.15);\n",
              "      fill: #174EA6;\n",
              "    }\n",
              "\n",
              "    .colab-df-buttons div {\n",
              "      margin-bottom: 4px;\n",
              "    }\n",
              "\n",
              "    [theme=dark] .colab-df-convert {\n",
              "      background-color: #3B4455;\n",
              "      fill: #D2E3FC;\n",
              "    }\n",
              "\n",
              "    [theme=dark] .colab-df-convert:hover {\n",
              "      background-color: #434B5C;\n",
              "      box-shadow: 0px 1px 3px 1px rgba(0, 0, 0, 0.15);\n",
              "      filter: drop-shadow(0px 1px 2px rgba(0, 0, 0, 0.3));\n",
              "      fill: #FFFFFF;\n",
              "    }\n",
              "  </style>\n",
              "\n",
              "    <script>\n",
              "      const buttonEl =\n",
              "        document.querySelector('#df-92639012-3fff-4bc2-8119-3fa8422dd9e4 button.colab-df-convert');\n",
              "      buttonEl.style.display =\n",
              "        google.colab.kernel.accessAllowed ? 'block' : 'none';\n",
              "\n",
              "      async function convertToInteractive(key) {\n",
              "        const element = document.querySelector('#df-92639012-3fff-4bc2-8119-3fa8422dd9e4');\n",
              "        const dataTable =\n",
              "          await google.colab.kernel.invokeFunction('convertToInteractive',\n",
              "                                                    [key], {});\n",
              "        if (!dataTable) return;\n",
              "\n",
              "        const docLinkHtml = 'Like what you see? Visit the ' +\n",
              "          '<a target=\"_blank\" href=https://colab.research.google.com/notebooks/data_table.ipynb>data table notebook</a>'\n",
              "          + ' to learn more about interactive tables.';\n",
              "        element.innerHTML = '';\n",
              "        dataTable['output_type'] = 'display_data';\n",
              "        await google.colab.output.renderOutput(dataTable, element);\n",
              "        const docLink = document.createElement('div');\n",
              "        docLink.innerHTML = docLinkHtml;\n",
              "        element.appendChild(docLink);\n",
              "      }\n",
              "    </script>\n",
              "  </div>\n",
              "\n",
              "\n",
              "<div id=\"df-772e8fab-4d7f-4bf7-895c-f5f4e399105a\">\n",
              "  <button class=\"colab-df-quickchart\" onclick=\"quickchart('df-772e8fab-4d7f-4bf7-895c-f5f4e399105a')\"\n",
              "            title=\"Suggest charts\"\n",
              "            style=\"display:none;\">\n",
              "\n",
              "<svg xmlns=\"http://www.w3.org/2000/svg\" height=\"24px\"viewBox=\"0 0 24 24\"\n",
              "     width=\"24px\">\n",
              "    <g>\n",
              "        <path d=\"M19 3H5c-1.1 0-2 .9-2 2v14c0 1.1.9 2 2 2h14c1.1 0 2-.9 2-2V5c0-1.1-.9-2-2-2zM9 17H7v-7h2v7zm4 0h-2V7h2v10zm4 0h-2v-4h2v4z\"/>\n",
              "    </g>\n",
              "</svg>\n",
              "  </button>\n",
              "\n",
              "<style>\n",
              "  .colab-df-quickchart {\n",
              "      --bg-color: #E8F0FE;\n",
              "      --fill-color: #1967D2;\n",
              "      --hover-bg-color: #E2EBFA;\n",
              "      --hover-fill-color: #174EA6;\n",
              "      --disabled-fill-color: #AAA;\n",
              "      --disabled-bg-color: #DDD;\n",
              "  }\n",
              "\n",
              "  [theme=dark] .colab-df-quickchart {\n",
              "      --bg-color: #3B4455;\n",
              "      --fill-color: #D2E3FC;\n",
              "      --hover-bg-color: #434B5C;\n",
              "      --hover-fill-color: #FFFFFF;\n",
              "      --disabled-bg-color: #3B4455;\n",
              "      --disabled-fill-color: #666;\n",
              "  }\n",
              "\n",
              "  .colab-df-quickchart {\n",
              "    background-color: var(--bg-color);\n",
              "    border: none;\n",
              "    border-radius: 50%;\n",
              "    cursor: pointer;\n",
              "    display: none;\n",
              "    fill: var(--fill-color);\n",
              "    height: 32px;\n",
              "    padding: 0;\n",
              "    width: 32px;\n",
              "  }\n",
              "\n",
              "  .colab-df-quickchart:hover {\n",
              "    background-color: var(--hover-bg-color);\n",
              "    box-shadow: 0 1px 2px rgba(60, 64, 67, 0.3), 0 1px 3px 1px rgba(60, 64, 67, 0.15);\n",
              "    fill: var(--button-hover-fill-color);\n",
              "  }\n",
              "\n",
              "  .colab-df-quickchart-complete:disabled,\n",
              "  .colab-df-quickchart-complete:disabled:hover {\n",
              "    background-color: var(--disabled-bg-color);\n",
              "    fill: var(--disabled-fill-color);\n",
              "    box-shadow: none;\n",
              "  }\n",
              "\n",
              "  .colab-df-spinner {\n",
              "    border: 2px solid var(--fill-color);\n",
              "    border-color: transparent;\n",
              "    border-bottom-color: var(--fill-color);\n",
              "    animation:\n",
              "      spin 1s steps(1) infinite;\n",
              "  }\n",
              "\n",
              "  @keyframes spin {\n",
              "    0% {\n",
              "      border-color: transparent;\n",
              "      border-bottom-color: var(--fill-color);\n",
              "      border-left-color: var(--fill-color);\n",
              "    }\n",
              "    20% {\n",
              "      border-color: transparent;\n",
              "      border-left-color: var(--fill-color);\n",
              "      border-top-color: var(--fill-color);\n",
              "    }\n",
              "    30% {\n",
              "      border-color: transparent;\n",
              "      border-left-color: var(--fill-color);\n",
              "      border-top-color: var(--fill-color);\n",
              "      border-right-color: var(--fill-color);\n",
              "    }\n",
              "    40% {\n",
              "      border-color: transparent;\n",
              "      border-right-color: var(--fill-color);\n",
              "      border-top-color: var(--fill-color);\n",
              "    }\n",
              "    60% {\n",
              "      border-color: transparent;\n",
              "      border-right-color: var(--fill-color);\n",
              "    }\n",
              "    80% {\n",
              "      border-color: transparent;\n",
              "      border-right-color: var(--fill-color);\n",
              "      border-bottom-color: var(--fill-color);\n",
              "    }\n",
              "    90% {\n",
              "      border-color: transparent;\n",
              "      border-bottom-color: var(--fill-color);\n",
              "    }\n",
              "  }\n",
              "</style>\n",
              "\n",
              "  <script>\n",
              "    async function quickchart(key) {\n",
              "      const quickchartButtonEl =\n",
              "        document.querySelector('#' + key + ' button');\n",
              "      quickchartButtonEl.disabled = true;  // To prevent multiple clicks.\n",
              "      quickchartButtonEl.classList.add('colab-df-spinner');\n",
              "      try {\n",
              "        const charts = await google.colab.kernel.invokeFunction(\n",
              "            'suggestCharts', [key], {});\n",
              "      } catch (error) {\n",
              "        console.error('Error during call to suggestCharts:', error);\n",
              "      }\n",
              "      quickchartButtonEl.classList.remove('colab-df-spinner');\n",
              "      quickchartButtonEl.classList.add('colab-df-quickchart-complete');\n",
              "    }\n",
              "    (() => {\n",
              "      let quickchartButtonEl =\n",
              "        document.querySelector('#df-772e8fab-4d7f-4bf7-895c-f5f4e399105a button');\n",
              "      quickchartButtonEl.style.display =\n",
              "        google.colab.kernel.accessAllowed ? 'block' : 'none';\n",
              "    })();\n",
              "  </script>\n",
              "</div>\n",
              "    </div>\n",
              "  </div>\n"
            ]
          },
          "metadata": {},
          "execution_count": 43
        }
      ]
    },
    {
      "cell_type": "code",
      "source": [
        "#Make a new DataFrame which are numerical\n",
        "df2=pd.DataFrame(data=df,columns=(['survived','pclass','age','sibsp',\t'parch'\t,'fare']))"
      ],
      "metadata": {
        "id": "DRQM1pSv_NT3"
      },
      "execution_count": null,
      "outputs": []
    },
    {
      "cell_type": "code",
      "source": [
        "#StandardScaler\n",
        "from sklearn.preprocessing import StandardScaler\n",
        "scaler=StandardScaler()\n",
        "df2=scaler.fit_transform(df2)\n",
        "# After Scaling the pandas dataFrame becomes numpy Array , so make it again it Pandas Array"
      ],
      "metadata": {
        "id": "7w4p1P4i03KR"
      },
      "execution_count": null,
      "outputs": []
    },
    {
      "cell_type": "code",
      "source": [
        "df2=pd.DataFrame(df2,columns=(['survived','pclass','age','sibsp',\t'parch'\t,'fare']))"
      ],
      "metadata": {
        "id": "XDgW78tA9_hq"
      },
      "execution_count": null,
      "outputs": []
    },
    {
      "cell_type": "code",
      "source": [
        "df2.describe()"
      ],
      "metadata": {
        "colab": {
          "base_uri": "https://localhost:8080/",
          "height": 300
        },
        "id": "d_o9CGmKAz0G",
        "outputId": "5a78bf58-6947-4703-a3e1-02f267a05194"
      },
      "execution_count": null,
      "outputs": [
        {
          "output_type": "execute_result",
          "data": {
            "text/plain": [
              "           survived        pclass           age         sibsp         parch  \\\n",
              "count  8.910000e+02  8.910000e+02  7.140000e+02  8.910000e+02  8.910000e+02   \n",
              "mean   3.987333e-17 -8.772133e-17  2.388379e-16  4.386066e-17  5.382900e-17   \n",
              "std    1.000562e+00  1.000562e+00  1.000701e+00  1.000562e+00  1.000562e+00   \n",
              "min   -7.892723e-01 -1.566107e+00 -2.016979e+00 -4.745452e-01 -4.736736e-01   \n",
              "25%   -7.892723e-01 -3.693648e-01 -6.595416e-01 -4.745452e-01 -4.736736e-01   \n",
              "50%   -7.892723e-01  8.273772e-01 -1.170488e-01 -4.745452e-01 -4.736736e-01   \n",
              "75%    1.266990e+00  8.273772e-01  5.718310e-01  4.327934e-01 -4.736736e-01   \n",
              "max    1.266990e+00  8.273772e-01  3.465126e+00  6.784163e+00  6.974147e+00   \n",
              "\n",
              "               fare  \n",
              "count  8.910000e+02  \n",
              "mean   3.987333e-18  \n",
              "std    1.000562e+00  \n",
              "min   -6.484217e-01  \n",
              "25%   -4.891482e-01  \n",
              "50%   -3.573909e-01  \n",
              "75%   -2.424635e-02  \n",
              "max    9.667167e+00  "
            ],
            "text/html": [
              "\n",
              "  <div id=\"df-713a6c7a-54a6-43dc-958b-758d4c946305\" class=\"colab-df-container\">\n",
              "    <div>\n",
              "<style scoped>\n",
              "    .dataframe tbody tr th:only-of-type {\n",
              "        vertical-align: middle;\n",
              "    }\n",
              "\n",
              "    .dataframe tbody tr th {\n",
              "        vertical-align: top;\n",
              "    }\n",
              "\n",
              "    .dataframe thead th {\n",
              "        text-align: right;\n",
              "    }\n",
              "</style>\n",
              "<table border=\"1\" class=\"dataframe\">\n",
              "  <thead>\n",
              "    <tr style=\"text-align: right;\">\n",
              "      <th></th>\n",
              "      <th>survived</th>\n",
              "      <th>pclass</th>\n",
              "      <th>age</th>\n",
              "      <th>sibsp</th>\n",
              "      <th>parch</th>\n",
              "      <th>fare</th>\n",
              "    </tr>\n",
              "  </thead>\n",
              "  <tbody>\n",
              "    <tr>\n",
              "      <th>count</th>\n",
              "      <td>8.910000e+02</td>\n",
              "      <td>8.910000e+02</td>\n",
              "      <td>7.140000e+02</td>\n",
              "      <td>8.910000e+02</td>\n",
              "      <td>8.910000e+02</td>\n",
              "      <td>8.910000e+02</td>\n",
              "    </tr>\n",
              "    <tr>\n",
              "      <th>mean</th>\n",
              "      <td>3.987333e-17</td>\n",
              "      <td>-8.772133e-17</td>\n",
              "      <td>2.388379e-16</td>\n",
              "      <td>4.386066e-17</td>\n",
              "      <td>5.382900e-17</td>\n",
              "      <td>3.987333e-18</td>\n",
              "    </tr>\n",
              "    <tr>\n",
              "      <th>std</th>\n",
              "      <td>1.000562e+00</td>\n",
              "      <td>1.000562e+00</td>\n",
              "      <td>1.000701e+00</td>\n",
              "      <td>1.000562e+00</td>\n",
              "      <td>1.000562e+00</td>\n",
              "      <td>1.000562e+00</td>\n",
              "    </tr>\n",
              "    <tr>\n",
              "      <th>min</th>\n",
              "      <td>-7.892723e-01</td>\n",
              "      <td>-1.566107e+00</td>\n",
              "      <td>-2.016979e+00</td>\n",
              "      <td>-4.745452e-01</td>\n",
              "      <td>-4.736736e-01</td>\n",
              "      <td>-6.484217e-01</td>\n",
              "    </tr>\n",
              "    <tr>\n",
              "      <th>25%</th>\n",
              "      <td>-7.892723e-01</td>\n",
              "      <td>-3.693648e-01</td>\n",
              "      <td>-6.595416e-01</td>\n",
              "      <td>-4.745452e-01</td>\n",
              "      <td>-4.736736e-01</td>\n",
              "      <td>-4.891482e-01</td>\n",
              "    </tr>\n",
              "    <tr>\n",
              "      <th>50%</th>\n",
              "      <td>-7.892723e-01</td>\n",
              "      <td>8.273772e-01</td>\n",
              "      <td>-1.170488e-01</td>\n",
              "      <td>-4.745452e-01</td>\n",
              "      <td>-4.736736e-01</td>\n",
              "      <td>-3.573909e-01</td>\n",
              "    </tr>\n",
              "    <tr>\n",
              "      <th>75%</th>\n",
              "      <td>1.266990e+00</td>\n",
              "      <td>8.273772e-01</td>\n",
              "      <td>5.718310e-01</td>\n",
              "      <td>4.327934e-01</td>\n",
              "      <td>-4.736736e-01</td>\n",
              "      <td>-2.424635e-02</td>\n",
              "    </tr>\n",
              "    <tr>\n",
              "      <th>max</th>\n",
              "      <td>1.266990e+00</td>\n",
              "      <td>8.273772e-01</td>\n",
              "      <td>3.465126e+00</td>\n",
              "      <td>6.784163e+00</td>\n",
              "      <td>6.974147e+00</td>\n",
              "      <td>9.667167e+00</td>\n",
              "    </tr>\n",
              "  </tbody>\n",
              "</table>\n",
              "</div>\n",
              "    <div class=\"colab-df-buttons\">\n",
              "\n",
              "  <div class=\"colab-df-container\">\n",
              "    <button class=\"colab-df-convert\" onclick=\"convertToInteractive('df-713a6c7a-54a6-43dc-958b-758d4c946305')\"\n",
              "            title=\"Convert this dataframe to an interactive table.\"\n",
              "            style=\"display:none;\">\n",
              "\n",
              "  <svg xmlns=\"http://www.w3.org/2000/svg\" height=\"24px\" viewBox=\"0 -960 960 960\">\n",
              "    <path d=\"M120-120v-720h720v720H120Zm60-500h600v-160H180v160Zm220 220h160v-160H400v160Zm0 220h160v-160H400v160ZM180-400h160v-160H180v160Zm440 0h160v-160H620v160ZM180-180h160v-160H180v160Zm440 0h160v-160H620v160Z\"/>\n",
              "  </svg>\n",
              "    </button>\n",
              "\n",
              "  <style>\n",
              "    .colab-df-container {\n",
              "      display:flex;\n",
              "      gap: 12px;\n",
              "    }\n",
              "\n",
              "    .colab-df-convert {\n",
              "      background-color: #E8F0FE;\n",
              "      border: none;\n",
              "      border-radius: 50%;\n",
              "      cursor: pointer;\n",
              "      display: none;\n",
              "      fill: #1967D2;\n",
              "      height: 32px;\n",
              "      padding: 0 0 0 0;\n",
              "      width: 32px;\n",
              "    }\n",
              "\n",
              "    .colab-df-convert:hover {\n",
              "      background-color: #E2EBFA;\n",
              "      box-shadow: 0px 1px 2px rgba(60, 64, 67, 0.3), 0px 1px 3px 1px rgba(60, 64, 67, 0.15);\n",
              "      fill: #174EA6;\n",
              "    }\n",
              "\n",
              "    .colab-df-buttons div {\n",
              "      margin-bottom: 4px;\n",
              "    }\n",
              "\n",
              "    [theme=dark] .colab-df-convert {\n",
              "      background-color: #3B4455;\n",
              "      fill: #D2E3FC;\n",
              "    }\n",
              "\n",
              "    [theme=dark] .colab-df-convert:hover {\n",
              "      background-color: #434B5C;\n",
              "      box-shadow: 0px 1px 3px 1px rgba(0, 0, 0, 0.15);\n",
              "      filter: drop-shadow(0px 1px 2px rgba(0, 0, 0, 0.3));\n",
              "      fill: #FFFFFF;\n",
              "    }\n",
              "  </style>\n",
              "\n",
              "    <script>\n",
              "      const buttonEl =\n",
              "        document.querySelector('#df-713a6c7a-54a6-43dc-958b-758d4c946305 button.colab-df-convert');\n",
              "      buttonEl.style.display =\n",
              "        google.colab.kernel.accessAllowed ? 'block' : 'none';\n",
              "\n",
              "      async function convertToInteractive(key) {\n",
              "        const element = document.querySelector('#df-713a6c7a-54a6-43dc-958b-758d4c946305');\n",
              "        const dataTable =\n",
              "          await google.colab.kernel.invokeFunction('convertToInteractive',\n",
              "                                                    [key], {});\n",
              "        if (!dataTable) return;\n",
              "\n",
              "        const docLinkHtml = 'Like what you see? Visit the ' +\n",
              "          '<a target=\"_blank\" href=https://colab.research.google.com/notebooks/data_table.ipynb>data table notebook</a>'\n",
              "          + ' to learn more about interactive tables.';\n",
              "        element.innerHTML = '';\n",
              "        dataTable['output_type'] = 'display_data';\n",
              "        await google.colab.output.renderOutput(dataTable, element);\n",
              "        const docLink = document.createElement('div');\n",
              "        docLink.innerHTML = docLinkHtml;\n",
              "        element.appendChild(docLink);\n",
              "      }\n",
              "    </script>\n",
              "  </div>\n",
              "\n",
              "\n",
              "<div id=\"df-2be6236b-3821-4fb2-b041-12062e4c59bf\">\n",
              "  <button class=\"colab-df-quickchart\" onclick=\"quickchart('df-2be6236b-3821-4fb2-b041-12062e4c59bf')\"\n",
              "            title=\"Suggest charts\"\n",
              "            style=\"display:none;\">\n",
              "\n",
              "<svg xmlns=\"http://www.w3.org/2000/svg\" height=\"24px\"viewBox=\"0 0 24 24\"\n",
              "     width=\"24px\">\n",
              "    <g>\n",
              "        <path d=\"M19 3H5c-1.1 0-2 .9-2 2v14c0 1.1.9 2 2 2h14c1.1 0 2-.9 2-2V5c0-1.1-.9-2-2-2zM9 17H7v-7h2v7zm4 0h-2V7h2v10zm4 0h-2v-4h2v4z\"/>\n",
              "    </g>\n",
              "</svg>\n",
              "  </button>\n",
              "\n",
              "<style>\n",
              "  .colab-df-quickchart {\n",
              "      --bg-color: #E8F0FE;\n",
              "      --fill-color: #1967D2;\n",
              "      --hover-bg-color: #E2EBFA;\n",
              "      --hover-fill-color: #174EA6;\n",
              "      --disabled-fill-color: #AAA;\n",
              "      --disabled-bg-color: #DDD;\n",
              "  }\n",
              "\n",
              "  [theme=dark] .colab-df-quickchart {\n",
              "      --bg-color: #3B4455;\n",
              "      --fill-color: #D2E3FC;\n",
              "      --hover-bg-color: #434B5C;\n",
              "      --hover-fill-color: #FFFFFF;\n",
              "      --disabled-bg-color: #3B4455;\n",
              "      --disabled-fill-color: #666;\n",
              "  }\n",
              "\n",
              "  .colab-df-quickchart {\n",
              "    background-color: var(--bg-color);\n",
              "    border: none;\n",
              "    border-radius: 50%;\n",
              "    cursor: pointer;\n",
              "    display: none;\n",
              "    fill: var(--fill-color);\n",
              "    height: 32px;\n",
              "    padding: 0;\n",
              "    width: 32px;\n",
              "  }\n",
              "\n",
              "  .colab-df-quickchart:hover {\n",
              "    background-color: var(--hover-bg-color);\n",
              "    box-shadow: 0 1px 2px rgba(60, 64, 67, 0.3), 0 1px 3px 1px rgba(60, 64, 67, 0.15);\n",
              "    fill: var(--button-hover-fill-color);\n",
              "  }\n",
              "\n",
              "  .colab-df-quickchart-complete:disabled,\n",
              "  .colab-df-quickchart-complete:disabled:hover {\n",
              "    background-color: var(--disabled-bg-color);\n",
              "    fill: var(--disabled-fill-color);\n",
              "    box-shadow: none;\n",
              "  }\n",
              "\n",
              "  .colab-df-spinner {\n",
              "    border: 2px solid var(--fill-color);\n",
              "    border-color: transparent;\n",
              "    border-bottom-color: var(--fill-color);\n",
              "    animation:\n",
              "      spin 1s steps(1) infinite;\n",
              "  }\n",
              "\n",
              "  @keyframes spin {\n",
              "    0% {\n",
              "      border-color: transparent;\n",
              "      border-bottom-color: var(--fill-color);\n",
              "      border-left-color: var(--fill-color);\n",
              "    }\n",
              "    20% {\n",
              "      border-color: transparent;\n",
              "      border-left-color: var(--fill-color);\n",
              "      border-top-color: var(--fill-color);\n",
              "    }\n",
              "    30% {\n",
              "      border-color: transparent;\n",
              "      border-left-color: var(--fill-color);\n",
              "      border-top-color: var(--fill-color);\n",
              "      border-right-color: var(--fill-color);\n",
              "    }\n",
              "    40% {\n",
              "      border-color: transparent;\n",
              "      border-right-color: var(--fill-color);\n",
              "      border-top-color: var(--fill-color);\n",
              "    }\n",
              "    60% {\n",
              "      border-color: transparent;\n",
              "      border-right-color: var(--fill-color);\n",
              "    }\n",
              "    80% {\n",
              "      border-color: transparent;\n",
              "      border-right-color: var(--fill-color);\n",
              "      border-bottom-color: var(--fill-color);\n",
              "    }\n",
              "    90% {\n",
              "      border-color: transparent;\n",
              "      border-bottom-color: var(--fill-color);\n",
              "    }\n",
              "  }\n",
              "</style>\n",
              "\n",
              "  <script>\n",
              "    async function quickchart(key) {\n",
              "      const quickchartButtonEl =\n",
              "        document.querySelector('#' + key + ' button');\n",
              "      quickchartButtonEl.disabled = true;  // To prevent multiple clicks.\n",
              "      quickchartButtonEl.classList.add('colab-df-spinner');\n",
              "      try {\n",
              "        const charts = await google.colab.kernel.invokeFunction(\n",
              "            'suggestCharts', [key], {});\n",
              "      } catch (error) {\n",
              "        console.error('Error during call to suggestCharts:', error);\n",
              "      }\n",
              "      quickchartButtonEl.classList.remove('colab-df-spinner');\n",
              "      quickchartButtonEl.classList.add('colab-df-quickchart-complete');\n",
              "    }\n",
              "    (() => {\n",
              "      let quickchartButtonEl =\n",
              "        document.querySelector('#df-2be6236b-3821-4fb2-b041-12062e4c59bf button');\n",
              "      quickchartButtonEl.style.display =\n",
              "        google.colab.kernel.accessAllowed ? 'block' : 'none';\n",
              "    })();\n",
              "  </script>\n",
              "</div>\n",
              "    </div>\n",
              "  </div>\n"
            ]
          },
          "metadata": {},
          "execution_count": 54
        }
      ]
    },
    {
      "cell_type": "code",
      "source": [
        "sns.pairplot(df2)"
      ],
      "metadata": {
        "colab": {
          "base_uri": "https://localhost:8080/",
          "height": 1000
        },
        "id": "Iyv1_ztwA8G0",
        "outputId": "18b15915-d7db-4531-adbe-d514b3ae4760"
      },
      "execution_count": null,
      "outputs": [
        {
          "output_type": "execute_result",
          "data": {
            "text/plain": [
              "<seaborn.axisgrid.PairGrid at 0x7fc0e6132440>"
            ]
          },
          "metadata": {},
          "execution_count": 55
        },
        {
          "output_type": "display_data",
          "data": {
            "text/plain": [
              "<Figure size 1500x1500 with 42 Axes>"
            ],
            "image/png": "[encoded data removed]"
          },
          "metadata": {}
        }
      ]
    },
    {
      "cell_type": "code",
      "source": [],
      "metadata": {
        "id": "YBSwh2wLJgOK"
      },
      "execution_count": null,
      "outputs": []
    },
    {
      "cell_type": "markdown",
      "source": [],
      "metadata": {
        "id": "ElABI0qS2kSf"
      }
    },
    {
      "cell_type": "markdown",
      "source": [
        "# Outlier Treatment"
      ],
      "metadata": {
        "id": "sJTtHzNOJgmL"
      }
    },
    {
      "cell_type": "markdown",
      "source": [
        "Detect Outliers Using this\n",
        "\n",
        "*   Boxplot\n",
        "*   Histogram                   \n",
        "*   Scatter Plot\n",
        "*   Z-Score\n",
        "*   Inter Quantile Range\n",
        "\n"
      ],
      "metadata": {
        "id": "BmfBDIVyJqmk"
      }
    },
    {
      "cell_type": "markdown",
      "source": [
        "***In Which situations outliers are important for the Data***\n",
        "\n",
        "*   Time Series Data (Where to forecast the future)\n",
        "\n",
        "[So not remove the outlier]\n"
      ],
      "metadata": {
        "id": "2T-RF2IBLF4d"
      }
    },
    {
      "cell_type": "markdown",
      "source": [
        "***The Models that are not carrying about Outliers***\n",
        "\n",
        "\n",
        "*   KNN , Decision Tree, SVM , Naive Bayes Ensemble Methods\n",
        "\n"
      ],
      "metadata": {
        "id": "ELnD5pJlLwdj"
      }
    },
    {
      "cell_type": "markdown",
      "source": [
        "*Using 3-Sigma Technique (Standard Deviation)*"
      ],
      "metadata": {
        "id": "ajeVbzR0gz0W"
      }
    },
    {
      "cell_type": "code",
      "source": [
        "# Function to Detection Outlier on one-dimentional datasets.\n",
        "import statistics\n",
        "def find_anomalies(data):\n",
        "    #define a list to accumlate anomalies\n",
        "    anomalies = []\n",
        "\n",
        "    # Set upper and lower limit to 3 standard deviation\n",
        "    random_data_std = statistics.stdev(data)\n",
        "    random_data_mean = statistics.mean(data)\n",
        "    # 3-standard deviation\n",
        "\n",
        "    anomaly_cut_off = random_data_std * 3\n",
        "\n",
        "    lower_limit  = random_data_mean - anomaly_cut_off\n",
        "    upper_limit = random_data_mean + anomaly_cut_off\n",
        "\n",
        "    # Generate outliers\n",
        "    for outlier in data:\n",
        "        if outlier > upper_limit or outlier < lower_limit:\n",
        "            anomalies.append(outlier)\n",
        "    return anomalies"
      ],
      "metadata": {
        "id": "6KBvbZmIJlPV"
      },
      "execution_count": null,
      "outputs": []
    },
    {
      "cell_type": "code",
      "source": [
        "list1=find_anomalies(df.fare)"
      ],
      "metadata": {
        "id": "W7hrRQkdg-W6"
      },
      "execution_count": null,
      "outputs": []
    },
    {
      "cell_type": "code",
      "source": [
        "#Number of Outlier\n",
        "print(len(list1))\n",
        "print(len(df))"
      ],
      "metadata": {
        "colab": {
          "base_uri": "https://localhost:8080/"
        },
        "id": "-1FVSbKIhcBw",
        "outputId": "25164c43-df9d-4127-f78c-4c80ae2e0bcb"
      },
      "execution_count": null,
      "outputs": [
        {
          "output_type": "stream",
          "name": "stdout",
          "text": [
            "20\n",
            "891\n"
          ]
        }
      ]
    },
    {
      "cell_type": "code",
      "source": [
        "df.fare.skew()\n",
        "# possitively Skewed"
      ],
      "metadata": {
        "colab": {
          "base_uri": "https://localhost:8080/"
        },
        "id": "eugnBHE9iQO8",
        "outputId": "d930be2c-aec5-404f-d9f0-6adb8a209a09"
      },
      "execution_count": null,
      "outputs": [
        {
          "output_type": "execute_result",
          "data": {
            "text/plain": [
              "4.787316519674893"
            ]
          },
          "metadata": {},
          "execution_count": 84
        }
      ]
    },
    {
      "cell_type": "code",
      "source": [
        "# Fee hand to e\n",
        "sns.kdeplot(df.fare)\n",
        "#Possitively skewed Graph"
      ],
      "metadata": {
        "colab": {
          "base_uri": "https://localhost:8080/",
          "height": 466
        },
        "id": "Rn50Zlkqic0R",
        "outputId": "0e030d65-8e1c-4c07-a670-969d0d52a066"
      },
      "execution_count": null,
      "outputs": [
        {
          "output_type": "execute_result",
          "data": {
            "text/plain": [
              "<Axes: xlabel='fare', ylabel='Density'>"
            ]
          },
          "metadata": {},
          "execution_count": 119
        },
        {
          "output_type": "display_data",
          "data": {
            "text/plain": [
              "<Figure size 640x480 with 1 Axes>"
            ],
            "image/png": "[encoded data removed]"
          },
          "metadata": {}
        }
      ]
    },
    {
      "cell_type": "markdown",
      "source": [
        "***The process of making the data more normal***"
      ],
      "metadata": {
        "id": "VT_x_ucGkC37"
      }
    },
    {
      "cell_type": "code",
      "source": [
        "# Transfor to Log to convert it normal distribution\n",
        "df['transformed_data']=np.log(df.fare)\n",
        "sns.kdeplot(df.transformed_data)"
      ],
      "metadata": {
        "colab": {
          "base_uri": "https://localhost:8080/",
          "height": 209
        },
        "id": "iFZ8dmyphyxR",
        "outputId": "51f7ca0b-7864-4167-d23e-98fc133fe215"
      },
      "execution_count": null,
      "outputs": [
        {
          "output_type": "stream",
          "name": "stderr",
          "text": [
            "/usr/local/lib/python3.10/dist-packages/pandas/core/arraylike.py:402: RuntimeWarning: divide by zero encountered in log\n",
            "  result = getattr(ufunc, method)(*inputs, **kwargs)\n"
          ]
        },
        {
          "output_type": "execute_result",
          "data": {
            "text/plain": [
              "<Axes: xlabel='transformed_data', ylabel='Density'>"
            ]
          },
          "metadata": {},
          "execution_count": 120
        },
        {
          "output_type": "display_data",
          "data": {
            "text/plain": [
              "<Figure size 400x100 with 1 Axes>"
            ],
            "image/png": "[encoded data removed]"
          },
          "metadata": {}
        }
      ]
    },
    {
      "cell_type": "markdown",
      "source": [
        "***Box Plot Approach***\n",
        "\n",
        "1.   List item\n",
        "2.   List item\n",
        "\n"
      ],
      "metadata": {
        "id": "xl9y6-K1y9rz"
      }
    },
    {
      "cell_type": "code",
      "source": [
        "sns.boxplot(df)"
      ],
      "metadata": {
        "colab": {
          "base_uri": "https://localhost:8080/",
          "height": 447
        },
        "id": "sdCQSLNjwXgg",
        "outputId": "d586c80c-192e-4d8a-b0a1-08d60adb7c3b"
      },
      "execution_count": null,
      "outputs": [
        {
          "output_type": "execute_result",
          "data": {
            "text/plain": [
              "<Axes: >"
            ]
          },
          "metadata": {},
          "execution_count": 4
        },
        {
          "output_type": "display_data",
          "data": {
            "text/plain": [
              "<Figure size 640x480 with 1 Axes>"
            ],
            "image/png": "[encoded data removed]"
          },
          "metadata": {}
        }
      ]
    },
    {
      "cell_type": "markdown",
      "source": [
        "# Numerical and Cetegorical Data analysis"
      ],
      "metadata": {
        "id": "RXC6Ry-3JBWp"
      }
    },
    {
      "cell_type": "code",
      "source": [
        "## http://localhost:8888/notebooks/Pictures/Python%20Projects/Categorical%20and%20Numerical%20Analysis_Final.ipynb\n",
        "## https://www.youtube.com/watch?v=eAGjpFBJUCw&t=7s (Heatmaps)\n",
        "## http://localhost:8888/notebooks/Pictures/Python%20Projects/Feature_Binning_Final.ipynb\n",
        "## http://localhost:8888/notebooks/Pictures/Python%20Projects/Feature_Encoding_Final.ipynb"
      ],
      "metadata": {
        "id": "sp7CoNz7JOr_"
      },
      "execution_count": null,
      "outputs": []
    },
    {
      "cell_type": "code",
      "source": [
        "# Heatmap\n",
        "1)sns.heatmap(pivot_table, cbar=False, linewidth=0.5, annot=True , fmt= 'd' , cmap='winter')\n",
        "\n",
        "2)plt.figure(figsize=(6,6))\n",
        "   sns.heatmap(telco_base_data.corr(), cmap='Paired')"
      ],
      "metadata": {
        "id": "JpyN1ShvSbju"
      },
      "execution_count": null,
      "outputs": []
    },
    {
      "cell_type": "markdown",
      "source": [
        "***Important Talks***\n",
        "\n",
        "*   From age data use Line chart\n",
        "*   List item\n",
        "\n"
      ],
      "metadata": {
        "id": "QKKbz6SIXUQ4"
      }
    },
    {
      "cell_type": "markdown",
      "source": [
        "***Univariate Analysis***\n"
      ],
      "metadata": {
        "id": "MNFpr_V-znat"
      }
    },
    {
      "cell_type": "markdown",
      "source": [
        "***Types of Univariavte analyis***\n",
        "\n",
        "\n",
        "*    Categorical Data (Use Value counts, Countplot )\n",
        "*   Numerical Data  Use df.describe)\n",
        "\n"
      ],
      "metadata": {
        "id": "hvkU-I84zwL6"
      }
    },
    {
      "cell_type": "markdown",
      "source": [
        "***Bi Variate Analysis***"
      ],
      "metadata": {
        "id": "Y8eVKayO1HXC"
      }
    },
    {
      "cell_type": "markdown",
      "source": [
        "***Types of Bi variate***\n",
        "\n",
        "*   Numerical ( Correaltion , and Use Heatmaps\n",
        "*   Categorical\n",
        "\n"
      ],
      "metadata": {
        "id": "UmFHkN_s1MEm"
      }
    },
    {
      "cell_type": "code",
      "source": [],
      "metadata": {
        "id": "446eJZuse-DY"
      },
      "execution_count": null,
      "outputs": []
    },
    {
      "cell_type": "code",
      "source": [],
      "metadata": {
        "id": "nmYMfdf0e65R"
      },
      "execution_count": null,
      "outputs": []
    },
    {
      "cell_type": "code",
      "source": [],
      "metadata": {
        "id": "uhJJc_RMe7FM"
      },
      "execution_count": null,
      "outputs": []
    },
    {
      "cell_type": "code",
      "source": [],
      "metadata": {
        "id": "6dnZLZpre7QE"
      },
      "execution_count": null,
      "outputs": []
    },
    {
      "cell_type": "code",
      "source": [],
      "metadata": {
        "id": "aS2fYqPIe7Um"
      },
      "execution_count": null,
      "outputs": []
    },
    {
      "cell_type": "code",
      "source": [],
      "metadata": {
        "id": "SeCbfVg8e7X5"
      },
      "execution_count": null,
      "outputs": []
    },
    {
      "cell_type": "markdown",
      "source": [],
      "metadata": {
        "id": "BVjbR4kbdyQh"
      }
    },
    {
      "cell_type": "code",
      "source": [],
      "metadata": {
        "id": "FR_Tk8MAcuyf"
      },
      "execution_count": null,
      "outputs": []
    },
    {
      "cell_type": "code",
      "source": [],
      "metadata": {
        "id": "-jnqclq6Ab9w"
      },
      "execution_count": null,
      "outputs": []
    },
    {
      "cell_type": "markdown",
      "source": [
        "# Encoding"
      ],
      "metadata": {
        "id": "prf0tJz_DgI1"
      }
    },
    {
      "cell_type": "markdown",
      "source": [
        "***Type of Encoding***\n",
        "\n",
        "\n",
        "1.   Label encoding (for target variable)\n",
        "2.   One hot encoding (for independent Variable)\n",
        "3.   Dummie Encoding(same as one hot encoding, delete one of the columns)\n",
        "4.Target encoding\n",
        "5.Hash Encoding\n",
        "\n"
      ],
      "metadata": {
        "id": "Keak46AFgorz"
      }
    },
    {
      "cell_type": "markdown",
      "source": [
        "Label Encoding used for target variable only\n",
        "\n",
        "\n",
        "**Categorial data :**\n",
        "\n",
        "*  For the nominal column - One hot encoding\n",
        "*   For ordinal column - Ordinal encoding\n",
        "\n",
        "\n",
        "\n",
        "**Numerical data :**\n",
        "Encoding for handing missing value with mean or maximum\n",
        "* Age , continuous - Simple encoding\n",
        "\n",
        "\n",
        "\n",
        "**Label encoding vs One hot encoding :**\n",
        "  \n",
        "* Example : Car brand,  color name,  Location name\n",
        "For label encoding order works on the encoding value but  the problem solved using One hot encoding\n",
        "\n",
        "\n",
        "\n",
        "***ML prefer One hot encoding than  Label Encoding***\n",
        "\n",
        "     Codes For one hot Encoding in Pandas:  But don't use in Machine Learning\n",
        "     pd.get_dummies(df,columns=['fuel','owner'],drop_first=True)\n"
      ],
      "metadata": {
        "id": "g6Q3DQSuEXAG"
      }
    },
    {
      "cell_type": "code",
      "source": [],
      "metadata": {
        "id": "JuWxaLBqe9pe"
      },
      "execution_count": null,
      "outputs": []
    }
  ]
}