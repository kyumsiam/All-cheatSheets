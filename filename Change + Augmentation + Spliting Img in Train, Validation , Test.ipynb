{
 "cells": [
  {
   "cell_type": "markdown",
   "id": "a9aab0ac",
   "metadata": {},
   "source": [
    "# File Name Change in a Folder "
   ]
  },
  {
   "cell_type": "code",
   "execution_count": 11,
   "id": "3d662e4f",
   "metadata": {},
   "outputs": [
    {
     "name": "stdout",
     "output_type": "stream",
     "text": [
      "Files renamed successfully!\n"
     ]
    }
   ],
   "source": [
    "import os\n",
    "\n",
    "# Specify the path to the folder\n",
    "folder_path = 'archive (2)/validation/Potato_Late_Blight_leaf'\n",
    "\n",
    "# List all files in the directory\n",
    "files = os.listdir(folder_path)\n",
    "\n",
    "# Loop through all files and rename them\n",
    "for file_name in files:\n",
    "    # Construct full file path\n",
    "    old_file_path = os.path.join(folder_path, file_name)\n",
    "    \n",
    "    # Check if it's a file (not a directory)\n",
    "    if os.path.isfile(old_file_path):\n",
    "        # Create new file name\n",
    "        new_file_name = f'new_{file_name}'\n",
    "        \n",
    "        # Construct full new file path\n",
    "        new_file_path = os.path.join(folder_path, new_file_name)\n",
    "        \n",
    "        # Rename the file\n",
    "        os.rename(old_file_path, new_file_path)\n",
    "\n",
    "print(\"Files renamed successfully!\")"
   ]
  },
  {
   "cell_type": "markdown",
   "id": "ce1e044a",
   "metadata": {},
   "source": [
    "# Proper Data Augmentation "
   ]
  },
  {
   "cell_type": "code",
   "execution_count": 22,
   "id": "09d96f6f",
   "metadata": {},
   "outputs": [
    {
     "name": "stdout",
     "output_type": "stream",
     "text": [
      "Initialised with 2641 image(s) found.\n",
      "Output directory set to Practice Late blight\\output."
     ]
    }
   ],
   "source": [
    "import Augmentor\n",
    "\n",
    "path_to_data = \"Practice Late blight\"\n",
    "\n",
    "# Create a pipeline\n",
    "p = Augmentor.Pipeline(path_to_data)"
   ]
  },
  {
   "cell_type": "code",
   "execution_count": 23,
   "id": "db132546",
   "metadata": {},
   "outputs": [],
   "source": [
    "# Add some operations to an existing pipeline.\n",
    "\n",
    "# First, we add a horizontal flip operation to the pipeline:\n",
    "p.flip_left_right(probability=0.4)\n",
    "\n",
    "# Now we add a vertical flip operation to the pipeline:\n",
    "p.flip_top_bottom(probability=0.8)\n",
    "\n",
    "# Add a rotate90 operation to the pipeline:\n",
    "p.rotate90(probability=0.1)"
   ]
  },
  {
   "cell_type": "code",
   "execution_count": 24,
   "id": "c4e7fa1f",
   "metadata": {},
   "outputs": [
    {
     "name": "stderr",
     "output_type": "stream",
     "text": [
      "Processing <PIL.Image.Image image mode=RGB size=256x256 at 0x1FBD57FCA00>: 100%|█| 147/147 [00:00<00:00, 314.41 Samples\n"
     ]
    }
   ],
   "source": [
    "# Here we sample  images from the pipeline.\n",
    "\n",
    "# It is often useful to use scientific notation for specify\n",
    "# large numbers with trailing zeros.\n",
    "num_of_samples = int(147)\n",
    "\n",
    "# Now we can sample from the pipeline:\n",
    "p.sample(num_of_samples)"
   ]
  },
  {
   "cell_type": "markdown",
   "id": "2f0bcdde",
   "metadata": {},
   "source": [
    "# Split the Folder of Image in Train test Validation "
   ]
  },
  {
   "cell_type": "code",
   "execution_count": 46,
   "id": "ae1d644d",
   "metadata": {},
   "outputs": [],
   "source": [
    "import os\n",
    "import random\n",
    "import shutil\n",
    "\n",
    "data_path = \"Practice Orginal Merge Dataset/Late_blight\"\n",
    "\n",
    "# path to destination folders\n",
    "train_folder = os.path.join(data_path, 'train')\n",
    "val_folder = os.path.join(data_path, 'eval')\n",
    "test_folder = os.path.join(data_path, 'test')\n",
    "\n",
    "# Define a list of image extensions\n",
    "image_extensions = ['.jpg', '.jpeg', '.png', '.bmp','.JPG']\n",
    "\n",
    "# Create a list of image filenames in 'data_path'\n",
    "imgs_list = [filename for filename in os.listdir(data_path) if os.path.splitext(filename)[-1] in image_extensions]\n",
    "\n",
    "# Sets the random seed \n",
    "random.seed(42)\n",
    "\n",
    "# Shuffle the list of image filenames\n",
    "random.shuffle(imgs_list)\n",
    "\n",
    "# determine the number of images for each set\n",
    "train_size = int(len(imgs_list) * 0.7)\n",
    "val_size = int(len(imgs_list) * 0.15)\n",
    "test_size = int(len(imgs_list) * 0.15)\n",
    "\n",
    "# Create destination folders if they don't exist\n",
    "for folder_path in [train_folder, val_folder, test_folder]:\n",
    "    if not os.path.exists(folder_path):\n",
    "        os.makedirs(folder_path)\n",
    "\n",
    "# Copy image files to destination folders\n",
    "for i, f in enumerate(imgs_list):\n",
    "    if i < train_size:\n",
    "        dest_folder = train_folder\n",
    "    elif i < train_size + val_size:\n",
    "        dest_folder = val_folder\n",
    "    else:\n",
    "        dest_folder = test_folder\n",
    "    shutil.copy(os.path.join(data_path, f), os.path.join(dest_folder, f))"
   ]
  },
  {
   "cell_type": "code",
   "execution_count": null,
   "id": "0ef11e4c",
   "metadata": {},
   "outputs": [],
   "source": []
  }
 ],
 "metadata": {
  "kernelspec": {
   "display_name": "Python 3 (ipykernel)",
   "language": "python",
   "name": "python3"
  },
  "language_info": {
   "codemirror_mode": {
    "name": "ipython",
    "version": 3
   },
   "file_extension": ".py",
   "mimetype": "text/x-python",
   "name": "python",
   "nbconvert_exporter": "python",
   "pygments_lexer": "ipython3",
   "version": "3.10.9"
  }
 },
 "nbformat": 4,
 "nbformat_minor": 5
}
